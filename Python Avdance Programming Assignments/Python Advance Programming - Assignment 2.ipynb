{
 "cells": [
  {
   "cell_type": "markdown",
   "metadata": {},
   "source": [
    "### 1. Write a function that takes a positive integer num and calculates how many dots exist in a pentagonal shape around the center dot on the Nth iteration. In the image below you can see the first iteration is only a single dot. On thesecond, there are 6 dots. On the third, there are 16 dots, and on the fourth there are 31 dots.\n",
    "\n",
    "Return the number of dots that exist in the whole pentagon on the Nth iteration.\n",
    "\n",
    "Examples\n",
    "\n",
    "pentagonal(1) ➞ 1\n",
    "\n",
    "pentagonal(2) ➞ 6\n",
    "\n",
    "pentagonal(3) ➞ 16\n",
    "\n",
    "pentagonal(8) ➞ 141"
   ]
  },
  {
   "cell_type": "code",
   "execution_count": 5,
   "metadata": {},
   "outputs": [
    {
     "data": {
      "text/plain": [
       "16.0"
      ]
     },
     "execution_count": 5,
     "metadata": {},
     "output_type": "execute_result"
    }
   ],
   "source": [
    "def pentagonal(num):\n",
    "    num = num - 1\n",
    "    number = ((5*(num**2)) + (5*num) + 2) / 2 \n",
    "    return number\n",
    "\n",
    "pentagonal(3)"
   ]
  },
  {
   "cell_type": "markdown",
   "metadata": {},
   "source": [
    "### 2. Make a function that encrypts a given input with these steps:\n",
    "Input: &quot;apple&quot;\n",
    "\n",
    "Step 1: Reverse the input: &quot;elppa&quot;\n",
    "\n",
    "Step 2: Replace all vowels using the following chart:\n",
    "\n",
    "a =&gt; 0\n",
    "\n",
    "e =&gt; 1\n",
    "\n",
    "i =&gt; 2\n",
    "\n",
    "o =&gt; 2\n",
    "\n",
    "u =&gt; 3\n",
    "\n",
    " &quot;1lpp0&quot;\n",
    "\n",
    "Step 3: Add &quot;aca&quot; to the end of the word: &quot;1lpp0aca&quot;\n",
    "\n",
    "Output: &quot;1lpp0aca&quot;\n",
    "\n",
    "Examples\n",
    "\n",
    "encrypt(&quot;banana&quot;) ➞ &quot;0n0n0baca&quot;\n",
    "\n",
    "encrypt(&quot;karaca&quot;) ➞ &quot;0c0r0kaca&quot;\n",
    "\n",
    "encrypt(&quot;burak&quot;) ➞ &quot;k0r3baca&quot;\n",
    "\n",
    "encrypt(&quot;alpaca&quot;) ➞ &quot;0c0pl0aca&quot;"
   ]
  },
  {
   "cell_type": "code",
   "execution_count": 9,
   "metadata": {},
   "outputs": [
    {
     "data": {
      "text/plain": [
       "'k0r3baca'"
      ]
     },
     "execution_count": 9,
     "metadata": {},
     "output_type": "execute_result"
    }
   ],
   "source": [
    "def encrypt(st1):\n",
    "    st2 = reversed(st1)\n",
    "    st3 = \"\"\n",
    "    for i in st2:\n",
    "        if i == 'a':\n",
    "            st3 += '0'\n",
    "        elif i == 'e':\n",
    "            st3 += '1'\n",
    "        elif i == 'i':\n",
    "            st3 += '2'\n",
    "        elif i == 'o':\n",
    "            st3 += '2'\n",
    "        elif i == 'u':\n",
    "            st3 += '3'\n",
    "        else :\n",
    "            st3 += i\n",
    "        \n",
    "    return st3 + 'aca'\n",
    "\n",
    "encrypt(\"burak\")"
   ]
  },
  {
   "cell_type": "markdown",
   "metadata": {},
   "source": [
    "### 3. Given the month and year as numbers, return whether that month contains a Friday 13th.(i.e You can check Python&#39;s datetime module)\n",
    "Examples\n",
    "\n",
    "has_friday_13(3, 2020) ➞ True\n",
    "\n",
    "has_friday_13(10, 2017) ➞ True\n",
    "\n",
    "has_friday_13(1, 1985) ➞ False"
   ]
  },
  {
   "cell_type": "code",
   "execution_count": 43,
   "metadata": {},
   "outputs": [
    {
     "data": {
      "text/plain": [
       "True"
      ]
     },
     "execution_count": 43,
     "metadata": {},
     "output_type": "execute_result"
    }
   ],
   "source": [
    "import datetime\n",
    "import calendar\n",
    "\n",
    "def has_friday_13(m,y):\n",
    "    d = datetime.datetime(y, m, 13)\n",
    "    day = calendar.day_name[d.weekday()]\n",
    "    if day == 'Friday':\n",
    "        return True\n",
    "    return False\n",
    "    \n",
    "has_friday_13(8,2021)"
   ]
  },
  {
   "cell_type": "markdown",
   "metadata": {},
   "source": [
    "### 4. Write a regular expression that will help us count how many bad cookies are produced every day. You must use RegEx negative lookbehind.\n",
    "Example\n",
    "\n",
    "lst = [&quot;bad cookie&quot;, &quot;good cookie&quot;, &quot;bad cookie&quot;, &quot;good cookie&quot;, &quot;good cookie&quot;]\n",
    "pattern = &quot;yourregularexpressionhere&quot;\n",
    "\n",
    "len(re.findall(pattern, &quot;, &quot;.join(lst))) ➞ 2"
   ]
  },
  {
   "cell_type": "code",
   "execution_count": 96,
   "metadata": {},
   "outputs": [
    {
     "data": {
      "text/plain": [
       "2"
      ]
     },
     "execution_count": 96,
     "metadata": {},
     "output_type": "execute_result"
    }
   ],
   "source": [
    "import re\n",
    "lst = [\"bad cookie\", \"good cookie\", \"bad cookie\", \"good cookie\", \"good cookie\"] \n",
    "\n",
    "pattern = re.compile('(?<![a-z])123')\n",
    "\n",
    "len(re.findall(pattern, \", \".join(lst)))"
   ]
  },
  {
   "cell_type": "markdown",
   "metadata": {},
   "source": [
    "### 5. Given a list of words in the singular form, return a set of those words in the plural form if they appear more than once in the list.\n",
    "Examples\n",
    "pluralize([&quot;cow&quot;, &quot;pig&quot;, &quot;cow&quot;, &quot;cow&quot;]) ➞ { &quot;cows&quot;, &quot;pig&quot; }\n",
    "pluralize([&quot;table&quot;, &quot;table&quot;, &quot;table&quot;]) ➞ { &quot;tables&quot; }\n",
    "\n",
    "pluralize([&quot;chair&quot;, &quot;pencil&quot;, &quot;arm&quot;]) ➞ { &quot;chair&quot;, &quot;pencil&quot;, &quot;arm&quot; }"
   ]
  },
  {
   "cell_type": "code",
   "execution_count": 90,
   "metadata": {},
   "outputs": [
    {
     "data": {
      "text/plain": [
       "['chair', 'pencil', 'arm']"
      ]
     },
     "execution_count": 90,
     "metadata": {},
     "output_type": "execute_result"
    }
   ],
   "source": [
    "def pluralize(ls1):\n",
    "    ls2 = []\n",
    "    ls3 = []\n",
    "    for i in ls1:\n",
    "        if i in ls2:\n",
    "            st1 = i + \"s\"\n",
    "            if st1 not in ls3:\n",
    "                ls3.append(st1)\n",
    "                for j in ls3:\n",
    "                    if i in j and i== j:\n",
    "                        ls3.remove(j)\n",
    "        else :\n",
    "            ls2.append(i)\n",
    "            ls3.append(i)\n",
    "    return ls3\n",
    "\n",
    "pluralize([\"chair\", \"pencil\", \"arm\"])"
   ]
  }
 ],
 "metadata": {
  "kernelspec": {
   "display_name": "Python 3",
   "language": "python",
   "name": "python3"
  },
  "language_info": {
   "codemirror_mode": {
    "name": "ipython",
    "version": 3
   },
   "file_extension": ".py",
   "mimetype": "text/x-python",
   "name": "python",
   "nbconvert_exporter": "python",
   "pygments_lexer": "ipython3",
   "version": "3.8.5"
  }
 },
 "nbformat": 4,
 "nbformat_minor": 4
}
