{
 "cells": [
  {
   "cell_type": "markdown",
   "metadata": {},
   "source": [
    "### 1) What are the differences between operators and values in the following?\n",
    "*\n",
    "\n",
    "'hello'\n",
    "\n",
    "-87.8\n",
    "\n",
    "-\n",
    "\n",
    "/\n",
    "\n",
    "+\n",
    "\n",
    "6\n",
    "\n",
    "\n",
    "### Ans :\n",
    "Operators are mathemetical signs used to perform operations\n",
    "Operators : \n",
    "\n",
    "*, -, /, +\n",
    "    \n",
    "    \n",
    "    \n",
    "Values are entities on which we perform ab operation\n",
    "Values : \n",
    "\n",
    "'hello', 6"
   ]
  },
  {
   "cell_type": "markdown",
   "metadata": {},
   "source": [
    "### 2) What is the difference between string and variable?\n",
    "spam\n",
    "\n",
    "'spam'\n",
    "\n",
    "### Ans :\n",
    "String is datatype (String is added inside single quotes or duoble quotes )\n",
    "Variable is used to store data of any data type. Variable name is used to point memory location.\n",
    "\n",
    "Above is spam is variable and 'spam' is string"
   ]
  },
  {
   "cell_type": "markdown",
   "metadata": {},
   "source": [
    "###  3) Describe three different data types.\n",
    "\n",
    "1) String\n",
    "\n",
    "2) Int\n",
    "\n",
    "3) List\n",
    "\n",
    "4) Set\n",
    "\n",
    "5) Tuple\n",
    "\n",
    "6) Float"
   ]
  },
  {
   "cell_type": "markdown",
   "metadata": {},
   "source": [
    "### 4) What is an expression made up of? What do all expressions do?\n",
    "\n",
    "### Ans :\n",
    "An expression is a combination of values, variables, operators, and calls to functions.\n",
    "\n",
    "Expressions makes some complex operations possible."
   ]
  },
  {
   "cell_type": "markdown",
   "metadata": {},
   "source": [
    "### 5. In this chapter, assignment statements such as spam = 10 were added. What's the difference between a declaration and an expression?\n",
    "\n",
    "### Ans :\n",
    "\n",
    "Spam = 10 is declaration\n",
    "\n",
    "Spam + 1 is an expression"
   ]
  },
  {
   "cell_type": "markdown",
   "metadata": {},
   "source": [
    "### 6. After running the following code, what does the variable bacon contain?\n",
    "\n",
    "bacon = 22\n",
    "\n",
    "bacon + 1\n",
    "\n",
    "### Ans:\n",
    "22"
   ]
  },
  {
   "cell_type": "markdown",
   "metadata": {},
   "source": [
    "### 7. What should the values of the following two terms be?\n",
    "\n",
    "#### 1) 'spam' + 'spamspam'\n",
    "### Ans :\n",
    "spamspamspam\n",
    "\n",
    "\n",
    "\n",
    "#### 2) 'spam' * 3\n",
    "### Ans :\n",
    "spamspamspam"
   ]
  },
  {
   "cell_type": "markdown",
   "metadata": {},
   "source": [
    "### 8. Why is it that eggs is a true variable name but 100 is not?\n",
    "\n",
    "### Ans :\n",
    "According to the naming convention of python a variable must start with a letter or an underscore.\n",
    "as 100 is not a variable nor does it start with underscore."
   ]
  },
  {
   "cell_type": "markdown",
   "metadata": {},
   "source": [
    "### 9. Which of the following three functions may be used to convert a value to an integer, a floating-point number, or a string?\n",
    "\n",
    "### Ans :\n",
    "Suppose x is a variable\n",
    "\n",
    "int(x) to convert x to a plain integer.\n",
    "\n",
    "float(x) to convert x to a floating-point number.\n",
    "\n",
    "str(x) to convert x to a String"
   ]
  },
  {
   "cell_type": "markdown",
   "metadata": {},
   "source": [
    "### 10) What is the error caused by this expression? What would you do about it?\n",
    "\n",
    "'I have eaten ' + 99 + ' burritos.'\n",
    "\n",
    "### Ans :\n",
    "'I have eaten ' + str(99) + ' burritos.'"
   ]
  }
 ],
 "metadata": {
  "kernelspec": {
   "display_name": "Python 3",
   "language": "python",
   "name": "python3"
  },
  "language_info": {
   "codemirror_mode": {
    "name": "ipython",
    "version": 3
   },
   "file_extension": ".py",
   "mimetype": "text/x-python",
   "name": "python",
   "nbconvert_exporter": "python",
   "pygments_lexer": "ipython3",
   "version": "3.8.5"
  }
 },
 "nbformat": 4,
 "nbformat_minor": 4
}
