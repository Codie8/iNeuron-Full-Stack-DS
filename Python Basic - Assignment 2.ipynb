{
 "cells": [
  {
   "cell_type": "markdown",
   "metadata": {},
   "source": [
    "### 1. What are the Boolean data type's two values? How do you go about writing them?\n",
    "\n",
    "### Ans :\n",
    "2 Values are : True, False\n",
    "\n",
    "We can write them as True, False or 1, 0"
   ]
  },
  {
   "cell_type": "markdown",
   "metadata": {},
   "source": [
    "### 2. What are the three different types of Boolean operators?\n",
    "\n",
    "### Ans : \n",
    "AND, OR, NOT"
   ]
  },
  {
   "cell_type": "markdown",
   "metadata": {},
   "source": [
    "### 3. Make a list of each Boolean operator's truth tables (i.e. every possible combination of Boolean values for the operator and what it evaluate ).\n",
    "\n",
    "### Ans :\n",
    "####     AND\n",
    "\n",
    "0  0 = 0\n",
    "\n",
    "0  1 = 0\n",
    "\n",
    "1  0 = 0\n",
    "\n",
    "1  1 = 1\n",
    "\n",
    "####    OR\n",
    "\n",
    "0  0 = 0\n",
    "\n",
    "0  1 = 1\n",
    "\n",
    "1  0 = 1\n",
    "\n",
    "1  1 = 0"
   ]
  },
  {
   "cell_type": "markdown",
   "metadata": {},
   "source": [
    "### 4. What are the values of the following expressions?\n",
    "1) (5 > 4) and (3 == 5)\n",
    "\n",
    "2) not (5 > 4)\n",
    "\n",
    "3) (5 > 4) or (3 == 5)\n",
    "\n",
    "4) not ((5 > 4) or (3 == 5))\n",
    "\n",
    "5) (True and True) and (True == False)\n",
    "\n",
    "6) (not False) or (not True)\n",
    "\n",
    "\n",
    "### Ans :\n",
    "1) False\n",
    "\n",
    "2) False\n",
    "\n",
    "3) True\n",
    "\n",
    "4) False\n",
    "\n",
    "5) False\n",
    "\n",
    "5) True"
   ]
  },
  {
   "cell_type": "markdown",
   "metadata": {},
   "source": [
    "### 5. What are the six comparison operators?\n",
    "\n",
    "### Ans :\n",
    "1) Equal to (==)\n",
    "\n",
    "2) Lesser than equal to (<=)\n",
    "\n",
    "3) Greater than equal to (>=)\n",
    "\n",
    "4) Lesser than (<)\n",
    "\n",
    "5) Greater than (<)\n",
    "\n",
    "6) Not equal to (!=)"
   ]
  },
  {
   "cell_type": "markdown",
   "metadata": {},
   "source": [
    "### 6) How do you tell the difference between the equal to and assignment operators?\n",
    "\n",
    "### Ans\n",
    "Equal to is double equal sign (==), Used to check if two variables are equal to not\n",
    "\n",
    "Assignment Operator is single equal sign (=), Used to assign value to some variable.\n",
    "\n",
    "#### 6.b. Describe a condition and when you would use one.\n",
    "\n",
    "#### Ans\n",
    "\n",
    "if we consider Q6 conditions \n",
    "\n",
    "1) Equal to is used to check if some value is equal to particular variable \n",
    "i.e. if a==10: (Equal to)\n",
    "\n",
    "2) Assignment Operator is used to assign particular value to variable\n",
    "i.e. a=10 (Assignment)"
   ]
  },
  {
   "cell_type": "markdown",
   "metadata": {},
   "source": [
    "### 7. Recognize the following three blocks in this code:\n",
    "\n",
    "spam = 0\n",
    "\n",
    "if spam == 10:\n",
    "\n",
    "    print('eggs')\n",
    "    \n",
    "    if spam > 5:\n",
    "    \n",
    "        print('bacon')\n",
    "        \n",
    "    else:\n",
    "    \n",
    "        print('ham')\n",
    "        \n",
    "    print('spam')\n",
    "    \n",
    "print('spam')\n",
    "\n",
    "### Ans :\n",
    "\n",
    "1) spam = 0 (It is Assignment Block)\n",
    "\n",
    "2) spam == 10 (It is Equal to block)\n",
    "\n",
    "3) spam > 5 (It is Comparision operator, Lesser than)"
   ]
  },
  {
   "cell_type": "markdown",
   "metadata": {},
   "source": [
    "### 8) Write code that prints Hello if 1 is stored in spam, prints Howdy if 2 is stored in spam, and prints Greetings! if anything else is stored in spam.\n",
    "\n",
    "\n",
    "### Ans :"
   ]
  },
  {
   "cell_type": "code",
   "execution_count": 2,
   "metadata": {},
   "outputs": [
    {
     "name": "stdout",
     "output_type": "stream",
     "text": [
      "Hello\n"
     ]
    }
   ],
   "source": [
    "spam = 1\n",
    "\n",
    "if spam == 1:\n",
    "    print('Hello')\n",
    "elif spam == 2:\n",
    "    print(\"Howdy\")\n",
    "else :\n",
    "    print(\"Greetings\")"
   ]
  },
  {
   "cell_type": "markdown",
   "metadata": {},
   "source": [
    "### 9.If your programme is stuck in an endless loop, what keys you’ll press?\n",
    "\n",
    "### Ans :\n",
    "\n",
    "1) For normal python script we can press Ctrl + C\n",
    "\n",
    "2) For Jupyter Notebook we can either interuppt the kernel or restart the kernel"
   ]
  },
  {
   "cell_type": "markdown",
   "metadata": {},
   "source": [
    "### 10. How can you tell the difference between break and continue?\n",
    "\n",
    "### Ans :\n",
    "#### Break :\n",
    "When we use break the loop will stop and program execution will come out of loop and execute code after loop.\n",
    "It will skip whole loop after break statement gets executed\n",
    "\n",
    "#### Continue :\n",
    "When we use continue in the loop it will just skip that particular iteration and loop will continue to execute normally after that iteration"
   ]
  },
  {
   "cell_type": "markdown",
   "metadata": {},
   "source": [
    "### 11. In a for loop, what is the difference between range(10), range(0, 10), and range(0, 10, 1)?\n",
    "\n",
    "### Ans :\n",
    "There is no difference between execution of above 3 methods:\n",
    "\n",
    "All three will give range of numbers from 0 to 9.\n",
    "Extra parameters given in 2nd 3rd function are the default parameters of range() so even if we don't pass anything it will behave same and even if we pass intial number as 0 and increment as 1 still it will behave same as function by default take intial number as 0 an increment as 1"
   ]
  },
  {
   "cell_type": "markdown",
   "metadata": {},
   "source": [
    "### 12) Write a short program that prints the numbers 1 to 10 using a for loop. Then write an equivalent program that prints the numbers 1 to 10 using a while loop.\n",
    "\n",
    "### Ans :"
   ]
  },
  {
   "cell_type": "code",
   "execution_count": 5,
   "metadata": {},
   "outputs": [
    {
     "name": "stdout",
     "output_type": "stream",
     "text": [
      "1\n",
      "2\n",
      "3\n",
      "4\n",
      "5\n",
      "6\n",
      "7\n",
      "8\n",
      "9\n",
      "10\n"
     ]
    }
   ],
   "source": [
    "# Using for loop\n",
    "for i in range(1,11):\n",
    "    print(i)"
   ]
  },
  {
   "cell_type": "code",
   "execution_count": 7,
   "metadata": {},
   "outputs": [
    {
     "name": "stdout",
     "output_type": "stream",
     "text": [
      "1\n",
      "2\n",
      "3\n",
      "4\n",
      "5\n",
      "6\n",
      "7\n",
      "8\n",
      "9\n",
      "10\n"
     ]
    }
   ],
   "source": [
    "# Using While Loop\n",
    "c= 1\n",
    "while c<11:\n",
    "    print(c)\n",
    "    c +=1"
   ]
  },
  {
   "cell_type": "markdown",
   "metadata": {},
   "source": [
    "### 13. If you had a function named bacon() inside a module named spam, how would you call it after importing spam?\n",
    "\n",
    "### Ans : \n",
    "import spam as sp\n",
    "\n",
    "sp.bacon()"
   ]
  }
 ],
 "metadata": {
  "kernelspec": {
   "display_name": "Python 3",
   "language": "python",
   "name": "python3"
  },
  "language_info": {
   "codemirror_mode": {
    "name": "ipython",
    "version": 3
   },
   "file_extension": ".py",
   "mimetype": "text/x-python",
   "name": "python",
   "nbconvert_exporter": "python",
   "pygments_lexer": "ipython3",
   "version": "3.8.5"
  }
 },
 "nbformat": 4,
 "nbformat_minor": 4
}
