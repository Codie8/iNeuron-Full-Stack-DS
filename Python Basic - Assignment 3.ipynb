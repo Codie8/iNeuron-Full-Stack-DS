{
 "cells": [
  {
   "cell_type": "markdown",
   "metadata": {},
   "source": [
    "### 1) Why are functions advantageous to have in your programs?\n",
    "\n",
    "### Ans :\n",
    "We can avoid repetative code\n",
    "\n",
    "Code can break down large problem into small functions\n",
    "\n",
    "It makes code more readable\n",
    "\n",
    "Code modification becomes easier"
   ]
  },
  {
   "cell_type": "markdown",
   "metadata": {},
   "source": [
    "### 2. When does the code in a function run when it's specified or when it's called?\n",
    "\n",
    "### Ans : \n",
    "Code in function run when we call that function."
   ]
  },
  {
   "cell_type": "markdown",
   "metadata": {},
   "source": [
    "### 3. What statement creates a function?\n",
    "\n",
    "### Ans :\n",
    "Below statement creates function (Instead of pass we can put our code in function)\n",
    "\n",
    "def Function_Name():\n",
    "\n",
    "    pass"
   ]
  },
  {
   "cell_type": "markdown",
   "metadata": {},
   "source": [
    "### 4. What is the difference between a function and a function call?\n",
    "\n",
    "### Ans :\n",
    "We use define function to create function\n",
    "\n",
    "We use function call to execute that function"
   ]
  },
  {
   "cell_type": "markdown",
   "metadata": {},
   "source": [
    "### 5. How many global scopes are there in a Python program? How many local scopes?\n",
    "\n",
    "### Ans : \n",
    "There is only one global (G) scope in Python\n",
    "\n",
    "There are 3 local scopes in python:\n",
    "\n",
    "1) Global\n",
    "\n",
    "2) Local\n",
    "\n",
    "3) Built in"
   ]
  },
  {
   "cell_type": "markdown",
   "metadata": {},
   "source": [
    "### 6. What happens to variables in a local scope when the function call returns?\n",
    "\n",
    "\n",
    "### Ans:\n",
    "\n",
    "The local Variables are destroyed.\n"
   ]
  },
  {
   "cell_type": "markdown",
   "metadata": {},
   "source": [
    "### 7. What is the concept of a return value? Is it possible to have a return value in an expression?\n",
    "\n",
    "### Ans :\n",
    "Return- \n",
    "\n",
    "return statement is a special statement in python which returns the functions results back to the caller.\n",
    "\n",
    "Yes it is possible to have expression value in return\n",
    "eg. return a+b"
   ]
  },
  {
   "cell_type": "markdown",
   "metadata": {},
   "source": [
    "### 8. If a function does not have a return statement, what is the return value of a call to that function?\n",
    "\n",
    "### Ans :\n",
    "Such function does not return anything. \n",
    "\n",
    "Return value of such function is none type"
   ]
  },
  {
   "cell_type": "markdown",
   "metadata": {},
   "source": [
    "### 9. How do you make a function variable refer to the global variable?\n",
    "\n",
    "### Ans :\n",
    "We can use global before variable name"
   ]
  },
  {
   "cell_type": "markdown",
   "metadata": {},
   "source": [
    "### 10. What is the data type of None?\n",
    "\n",
    "### Ans:\n",
    "None is a data type of its own (NoneType)"
   ]
  },
  {
   "cell_type": "markdown",
   "metadata": {},
   "source": [
    "### 11. What does the sentence import areallyourpetsnamederic do?\n",
    "\n",
    "### Ans:\n",
    "If there some package named \"areallyourpetsnamederic\" then above statement will import that package so that we can use functions from that package"
   ]
  },
  {
   "cell_type": "markdown",
   "metadata": {},
   "source": [
    "### 12. If you had a bacon() feature in a spam module, what would you call it after importing spam?\n",
    "\n",
    "### Ans :\n",
    "We can call bacon() from spam as below:\n",
    "import spam as sp\n",
    "sp.bacon()"
   ]
  },
  {
   "cell_type": "markdown",
   "metadata": {},
   "source": [
    "### 13. What can you do to save a programme from crashing if it encounters an error?\n",
    "\n",
    "### Ans:\n",
    "We cam use Try except statement to save program from crashing, by putting suspicious statements in try loop and put meaningful error in except block which will execute when try loop fails"
   ]
  },
  {
   "cell_type": "markdown",
   "metadata": {},
   "source": [
    "### 14. What is the purpose of the try clause? What is the purpose of the except clause?\n",
    "\n",
    "### Ans :\n",
    "Try is used to stop programming from crashing when there is some error in program\n",
    "Except block is used to show meaning error when try block fails or to execute some other condition"
   ]
  }
 ],
 "metadata": {
  "kernelspec": {
   "display_name": "Python 3",
   "language": "python",
   "name": "python3"
  },
  "language_info": {
   "codemirror_mode": {
    "name": "ipython",
    "version": 3
   },
   "file_extension": ".py",
   "mimetype": "text/x-python",
   "name": "python",
   "nbconvert_exporter": "python",
   "pygments_lexer": "ipython3",
   "version": "3.8.5"
  }
 },
 "nbformat": 4,
 "nbformat_minor": 4
}
