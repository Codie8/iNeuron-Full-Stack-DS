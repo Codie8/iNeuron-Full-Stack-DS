{
 "cells": [
  {
   "cell_type": "markdown",
   "metadata": {},
   "source": [
    "### 1. What exactly is []?\n",
    "\n",
    "### Ans : \n",
    "[] is syntax to define list\n",
    "\n",
    "We can define empty list using [], i.e List1 = []"
   ]
  },
  {
   "cell_type": "markdown",
   "metadata": {},
   "source": [
    "### 2. In a list of values stored in a variable called spam, how would you assign the value 'hello' as the third value? (Assume [2, 4, 6, 8, 10] are in spam.)\n",
    "\n",
    "### Ans :\n",
    "\n",
    "\n",
    "\n"
   ]
  },
  {
   "cell_type": "code",
   "execution_count": 1,
   "metadata": {},
   "outputs": [
    {
     "data": {
      "text/plain": [
       "[2, 4, 'hello', 6, 8, 10]"
      ]
     },
     "execution_count": 1,
     "metadata": {},
     "output_type": "execute_result"
    }
   ],
   "source": [
    "spam = [2, 4, 6, 8, 10]\n",
    "spam.insert(2,'hello')\n",
    "spam"
   ]
  },
  {
   "cell_type": "markdown",
   "metadata": {},
   "source": [
    "### Let's pretend the spam includes the list ['a','b','c','d'] for the next three queries.\n",
    "\n"
   ]
  },
  {
   "cell_type": "markdown",
   "metadata": {},
   "source": [
    "### 3. What is the value of spam[int(int('3' * 2) / 11)]?\n",
    "\n",
    "### Ans : \n",
    "\n",
    "'d'"
   ]
  },
  {
   "cell_type": "markdown",
   "metadata": {},
   "source": [
    "### 4. What is the value of spam[-1]?\n",
    "\n",
    "### Ans : \n",
    "\n",
    "'d'"
   ]
  },
  {
   "cell_type": "markdown",
   "metadata": {},
   "source": [
    "### 5. What is the value of spam[:2]?\n",
    "\n",
    "### Ans : \n",
    "['a', 'b']"
   ]
  },
  {
   "cell_type": "markdown",
   "metadata": {},
   "source": [
    "### Let's pretend bacon has the list [3.14, 'cat', 11, 'cat', True] for the next three questions."
   ]
  },
  {
   "cell_type": "markdown",
   "metadata": {},
   "source": [
    "### 6. What is the value of bacon.index('cat')?\n",
    "\n",
    "### Ans : \n",
    "\n",
    "1"
   ]
  },
  {
   "cell_type": "markdown",
   "metadata": {},
   "source": [
    "### 7. How does bacon.append(99) change the look of the list value in bacon?\n",
    "\n",
    "### Ans : \n",
    "\n",
    "It will add new element in bacon list at the end and it will look like \n",
    "\n",
    "[3.14, 'cat', 11, 'cat', True, 99]"
   ]
  },
  {
   "cell_type": "markdown",
   "metadata": {},
   "source": [
    "### 8. How does bacon.remove('cat') change the look of the list in bacon?\n",
    "\n",
    "### Ans : \n",
    "It will remove first occurance of element 'cat' from list and list will look like :\n",
    "\n",
    "[3.14, 11, 'cat', True, 99]"
   ]
  },
  {
   "cell_type": "markdown",
   "metadata": {},
   "source": [
    "### 9. What are the list concatenation and list replication operators?\n",
    "\n",
    "### Ans :\n",
    "\n",
    "#### Concatenation:\n",
    "\n",
    "\"+\" is concatenation operator, It will combine 2 different lists \n",
    "i.e \n",
    "l1 = [1,2] \n",
    "\n",
    "l2= [3,4]  \n",
    "\n",
    "l1 + l2 will be \n",
    "\n",
    "[1,2,3,4]\n",
    "\n",
    "#### Replication:\n",
    "\n",
    "\"=\" is replication operator and it will replicate elements from one list to another\n",
    "\n",
    "i.e \n",
    "\n",
    "l1 = [7,8]\n",
    "\n",
    "l2 = l1\n",
    "\n",
    "value of l2 will be [7,8]"
   ]
  },
  {
   "cell_type": "markdown",
   "metadata": {},
   "source": [
    "### 10. What is difference between the list methods append() and insert()?\n",
    "\n",
    "### Ans :\n",
    "\n",
    "#### 1) append :\n",
    "\n",
    "append() will insert element at the end of list \n",
    "\n",
    "\n",
    "#### 1) insert :\n",
    "\n",
    "insert() will insert element at specified index in function argument"
   ]
  },
  {
   "cell_type": "markdown",
   "metadata": {},
   "source": [
    "### 11. What are the two methods for removing items from a list?\n",
    "\n",
    "### Ans :\n",
    "\n",
    "Suppose list is l1 = [1,2,3,4,5]\n",
    "\n",
    "#### 1) remove :\n",
    "\n",
    "l1.remove(4)\n",
    "\n",
    "(Removes specified element from list)\n",
    "\n",
    "\n",
    "#### 2) del :\n",
    "\n",
    "del(l1[2])\n",
    "\n",
    "(Deletes element from specified index from list )"
   ]
  },
  {
   "cell_type": "markdown",
   "metadata": {},
   "source": [
    "### 12. Describe how list values and string values are identical.\n",
    "\n",
    "### Ans : \n",
    "\n",
    "We can iterator each value of String and list using for loop"
   ]
  },
  {
   "cell_type": "markdown",
   "metadata": {},
   "source": [
    "### 13. What's the difference between tuples and lists?\n",
    "\n",
    "### Ans :\n",
    "\n",
    "Tuples are immutable which means we cannot change values of tuples after assignment\n",
    "\n",
    "We can change values of list anytime"
   ]
  },
  {
   "cell_type": "markdown",
   "metadata": {},
   "source": [
    "### 14. How do you type a tuple value that only contains the integer 42?\n",
    "\n",
    "### Ans :\n",
    "\n",
    "i.e. \n",
    "\n",
    "t1 = (42)\n",
    "\n",
    "print(t1)"
   ]
  },
  {
   "cell_type": "markdown",
   "metadata": {},
   "source": [
    "### 15. How do you get a list value's tuple form? How do you get a tuple value's list form?\n",
    "\n",
    "### Ans :\n",
    "\n",
    "We can use list(t1) to print Tuple as List\n",
    "\n",
    "We can use tuple(l1) to print List as Tuple\n",
    "\n",
    "Examples are given below"
   ]
  },
  {
   "cell_type": "code",
   "execution_count": 41,
   "metadata": {},
   "outputs": [
    {
     "name": "stdout",
     "output_type": "stream",
     "text": [
      "Tuple as List :  [4, 5, 6]\n",
      "List as Tuple :  (1, 2, 3)\n"
     ]
    }
   ],
   "source": [
    "l1 = [1,2,3]\n",
    "t1 = (4,5,6)\n",
    "print(\"Tuple as List : \",list(t1))\n",
    "print(\"List as Tuple : \",tuple(l1))"
   ]
  },
  {
   "cell_type": "markdown",
   "metadata": {},
   "source": [
    "### 16. Variables that \"contains\" list values are not necessarily lists themselves. Instead, what do they contain?\n",
    "\n",
    "### Ans :\n",
    "\n",
    "Variables that contains list values are not lists instead they are variables of data type of that particular index of list.\n",
    "\n",
    "Example : \n",
    "list1 = [1,2,3,4,5]\n",
    "v1 = list1[2]\n",
    "here v1 is variable of type int and holds value 3"
   ]
  },
  {
   "cell_type": "markdown",
   "metadata": {},
   "source": [
    "### 17. How do you distinguish between copy.copy() and copy.deepcopy()?\n",
    "\n",
    "### Ans :\n",
    "\n",
    "##### .copy() : It is shallow copy\n",
    "\n",
    "\n",
    "In shallow copy it creates a new object which stores the reference of the original elements, Shallow copy doesn't create a copy of nested objects, instead it just copies the reference of nested objects, If you make any changes in nested orginal elements it reflects in it's copy as well. \n",
    "\n",
    "\n",
    "\n",
    "##### .deepcopy() is deep copy\n",
    "\n",
    "In deep copy it creates a new object and recursively adds the copies of nested objects present in the original elements, If you make any changes in original elements it doesn't reflect in copy.\n",
    "\n",
    "\n",
    "#### Below examples shows difference between copy() and deepcopy()"
   ]
  },
  {
   "cell_type": "code",
   "execution_count": 25,
   "metadata": {},
   "outputs": [
    {
     "name": "stdout",
     "output_type": "stream",
     "text": [
      "original : [[1, 5, 1], [2, 2, 2], [3, 3, 3]]\n",
      "copy     : [[1, 5, 1], [2, 2, 2], [3, 3, 3]]\n"
     ]
    }
   ],
   "source": [
    "# Shallow Copy\n",
    "import copy\n",
    "l1 = [[1, 1, 1], [2, 2, 2], [3, 3, 3]]\n",
    "l2 = copy.copy(l1)\n",
    "l1[0][1]= 5\n",
    "print(\"original :\",l1)\n",
    "print(\"copy     :\",l2)"
   ]
  },
  {
   "cell_type": "code",
   "execution_count": 26,
   "metadata": {},
   "outputs": [
    {
     "name": "stdout",
     "output_type": "stream",
     "text": [
      "original : [[1, 5, 1], [2, 2, 2], [3, 3, 3]]\n",
      "copy     : [[1, 1, 1], [2, 2, 2], [3, 3, 3]]\n"
     ]
    }
   ],
   "source": [
    "# Deep Copy\n",
    "l1 = [[1, 1, 1], [2, 2, 2], [3, 3, 3]]\n",
    "l2 = copy.deepcopy(l1)\n",
    "l1[0][1] = 5\n",
    "print(\"original :\",l1)\n",
    "print(\"copy     :\",l2)"
   ]
  }
 ],
 "metadata": {
  "kernelspec": {
   "display_name": "Python 3",
   "language": "python",
   "name": "python3"
  },
  "language_info": {
   "codemirror_mode": {
    "name": "ipython",
    "version": 3
   },
   "file_extension": ".py",
   "mimetype": "text/x-python",
   "name": "python",
   "nbconvert_exporter": "python",
   "pygments_lexer": "ipython3",
   "version": "3.8.5"
  }
 },
 "nbformat": 4,
 "nbformat_minor": 4
}
