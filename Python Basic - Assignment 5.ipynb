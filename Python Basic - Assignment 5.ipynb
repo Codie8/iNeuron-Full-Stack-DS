{
 "cells": [
  {
   "cell_type": "markdown",
   "metadata": {},
   "source": [
    "### 1. What does an empty dictionary's code look like?\n",
    "\n",
    "### Ans :\n",
    "\n",
    "Dict = {}"
   ]
  },
  {
   "cell_type": "markdown",
   "metadata": {},
   "source": [
    "### 2. What is the value of a dictionary value with the key 'foo' and the value 42?\n",
    "\n",
    "### Ans :\n",
    "42"
   ]
  },
  {
   "cell_type": "markdown",
   "metadata": {},
   "source": [
    "### 3. What is the most significant distinction between a dictionary and a list?\n",
    "\n",
    "### Ans :\n",
    "Dictionary holds data in key value pair while list holds any structer of data"
   ]
  },
  {
   "cell_type": "markdown",
   "metadata": {},
   "source": [
    "### 4. What happens if you try to access spam['foo'] if spam is  {'bar': 100}?\n",
    "\n",
    "### Ans:\n",
    "\n",
    "It will give KeyError as this key does not exist in dictionary"
   ]
  },
  {
   "cell_type": "markdown",
   "metadata": {},
   "source": [
    "### 5. If a dictionary is stored in spam, what is the difference between the expressions 'cat' in spam and 'cat' in spam.keys()?\n",
    "\n",
    "### Ans :\n",
    "1) If we use spam['cat'] expression then it will return value stored in key 'cat'\n",
    "\n",
    "2) If we use spam.keys() it will return all key names and not values."
   ]
  },
  {
   "cell_type": "markdown",
   "metadata": {},
   "source": [
    "### 6. If a dictionary is stored in spam, what is the difference between the expressions 'cat' in spam and 'cat' in in spam.values()?\n",
    "\n",
    "### Ans :\n",
    "1) If we use spam['cat'] expression then it will return value stored in key 'cat'\n",
    "\n",
    "2) If we use spam.values() it will return all values stored in dictionary spam."
   ]
  },
  {
   "cell_type": "markdown",
   "metadata": {},
   "source": [
    "### 7. What is a shortcut for the following code?\n",
    "if 'color' not in spam:\n",
    "\n",
    "\n",
    "spam['color'] = 'black'\n",
    "\n",
    "### Ans :\n",
    "\n",
    "spam['color'] = 'black'"
   ]
  },
  {
   "cell_type": "markdown",
   "metadata": {},
   "source": [
    "### 8. How do you 'pretty print' dictionary values using which module and function?\n",
    "\n",
    "### Ans :\n",
    "\n",
    "1) Import Module pprint : import pprint\n",
    "\n",
    "2) Use function pprint from module pprint : pprint.pprint(Dict_Name)\n"
   ]
  }
 ],
 "metadata": {
  "kernelspec": {
   "display_name": "Python 3",
   "language": "python",
   "name": "python3"
  },
  "language_info": {
   "codemirror_mode": {
    "name": "ipython",
    "version": 3
   },
   "file_extension": ".py",
   "mimetype": "text/x-python",
   "name": "python",
   "nbconvert_exporter": "python",
   "pygments_lexer": "ipython3",
   "version": "3.8.5"
  }
 },
 "nbformat": 4,
 "nbformat_minor": 4
}
