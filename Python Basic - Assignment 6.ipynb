{
 "cells": [
  {
   "cell_type": "markdown",
   "metadata": {},
   "source": [
    "### 1. What are escape characters, and how do you use them?\n",
    "\n",
    "### Ans :\n",
    "\n",
    "To use characters that are illegal in a string,we use an escape character.\n",
    "\n",
    "An escape character is a backslash \\ followed by the character you want to use in String.\n",
    "\n",
    "An example of an illegal character is a double quote inside a string that is surrounded by double quotes:\n",
    "\n",
    "ex.\n",
    "str1 = \"My name is \"Shubham\"\"\n",
    "\n",
    "We can use below script :\n",
    "\n",
    "str2 = \"My name is \\\"Shubham\\\" and I am a Software Developer\"\n",
    "\n",
    "Also we can use \\n for newline and \\t for tab"
   ]
  },
  {
   "cell_type": "markdown",
   "metadata": {},
   "source": [
    "### 2. What do the escape characters n and t stand for?\n",
    "\n",
    "### Ans :\n",
    "\n",
    "n Stands for Newline and t Stands for Tab"
   ]
  },
  {
   "cell_type": "markdown",
   "metadata": {},
   "source": [
    "### 3. What is the way to include backslash characters in a string?\n",
    "\n",
    "### Ans:\n",
    "\n",
    "We can use double backslash to to include backslash in characters\n",
    "\n",
    "ex.\n",
    "str1 = \"Hello \\\\ \""
   ]
  },
  {
   "cell_type": "markdown",
   "metadata": {},
   "source": [
    "### 4. The string \"Howl's Moving Castle\" is a correct value. Why isn't the single quote character in the word Howl's not escaped a problem?\n",
    "\n",
    "### Ans :\n",
    "\n",
    "Double Quotes can also be used to enclosed strings in python and that's why we can use single quote in string when we enclose string in double quotes\n"
   ]
  },
  {
   "cell_type": "markdown",
   "metadata": {},
   "source": [
    "### 5. How do you write a string of newlines if you don't want to use the n character?\n",
    "\n",
    "### Ans :\n",
    "\n",
    "We can use below code\n",
    "\n",
    "print(\"Hello\")\n",
    "\n",
    "print(\"\")\n",
    "\n",
    "print(\"World\")"
   ]
  },
  {
   "cell_type": "markdown",
   "metadata": {},
   "source": [
    "### 6. What are the values of the given expressions?\n",
    "'Hello, world'[1]\n",
    "\n",
    "'Hello, world'[0:5]\n",
    "\n",
    "'Hello, world'[:5]\n",
    "\n",
    "'Hello, world'[3:]\n",
    "\n",
    "\n",
    "### Ans :\n",
    "'e'\n",
    "\n",
    "'Hello'\n",
    "\n",
    "'Hello'\n",
    "\n",
    "'lo, world'"
   ]
  },
  {
   "cell_type": "markdown",
   "metadata": {},
   "source": [
    "### 7. What are the values of the following expressions?\n",
    "'Hello'.upper()\n",
    "\n",
    "'Hello'.upper().isupper()\n",
    "\n",
    "'Hello'.upper().lower()\n",
    "\n",
    "### Ans:\n",
    "\n",
    "'HELLO'\n",
    "\n",
    "True\n",
    "\n",
    "'hello'"
   ]
  },
  {
   "cell_type": "markdown",
   "metadata": {},
   "source": [
    "### 8. What are the values of the following expressions?\n",
    "\n",
    "'Remember, remember, the fifth of July.'.split()\n",
    "\n",
    "'-'.join('There can only one.'.split())\n",
    "\n",
    "\n",
    "### Ans :\n",
    "\n",
    "['Remember,', 'remember,', 'the', 'fifth', 'of', 'July.']\n",
    "\n",
    "'There-can-only-one.'"
   ]
  },
  {
   "cell_type": "markdown",
   "metadata": {},
   "source": [
    "### 9. What are the methods for right-justifying, left-justifying, and centering a string?\n",
    "\n",
    "### Ans :\n",
    "\n",
    "str.ljust()\n",
    "\n",
    "str.rjust()\n",
    "\n",
    "str.center()\n"
   ]
  },
  {
   "cell_type": "markdown",
   "metadata": {},
   "source": [
    "### 10. What is the best way to remove whitespace characters from the start or end?\n",
    "\n",
    "### Ans :\n",
    "\n",
    "To Remove Start Whitespace :\n",
    "\n",
    "str.lstrip()\n",
    "\n",
    "\n",
    "To Remove End Whitespace :\n",
    "\n",
    "s2.rstrip()"
   ]
  }
 ],
 "metadata": {
  "kernelspec": {
   "display_name": "Python 3",
   "language": "python",
   "name": "python3"
  },
  "language_info": {
   "codemirror_mode": {
    "name": "ipython",
    "version": 3
   },
   "file_extension": ".py",
   "mimetype": "text/x-python",
   "name": "python",
   "nbconvert_exporter": "python",
   "pygments_lexer": "ipython3",
   "version": "3.8.5"
  }
 },
 "nbformat": 4,
 "nbformat_minor": 4
}
