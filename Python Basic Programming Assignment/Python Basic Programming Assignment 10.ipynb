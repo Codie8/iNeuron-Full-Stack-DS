{
 "cells": [
  {
   "cell_type": "markdown",
   "metadata": {},
   "source": [
    "### 1. Write a Python program to find sum of elements in list?"
   ]
  },
  {
   "cell_type": "code",
   "execution_count": 1,
   "metadata": {},
   "outputs": [
    {
     "name": "stdout",
     "output_type": "stream",
     "text": [
      "Sum of list [4, 5, 7, 8, 9, 3, 5, 3] is 44 \n"
     ]
    }
   ],
   "source": [
    "myList = [4,5,7,8,9,3,5,3]\n",
    "\n",
    "sum = 0\n",
    "for i in myList:\n",
    "    sum += i\n",
    "\n",
    "print(\"Sum of list {l} is {s} \".format(l=myList,s=sum))"
   ]
  },
  {
   "cell_type": "markdown",
   "metadata": {},
   "source": [
    "### 2. Write a Python program to Multiply all numbers in the list?"
   ]
  },
  {
   "cell_type": "code",
   "execution_count": 12,
   "metadata": {},
   "outputs": [
    {
     "name": "stdout",
     "output_type": "stream",
     "text": [
      "Multiplication of list [2, 3, 5, 2] is 60 \n"
     ]
    }
   ],
   "source": [
    "myList1 = [2,3,5,2]\n",
    "\n",
    "sum1 = 1\n",
    "for i in myList1:\n",
    "    sum1 *= i\n",
    "\n",
    "print(\"Multiplication of list {l1} is {s1} \".format(l1=myList1,s1=sum1))"
   ]
  },
  {
   "cell_type": "markdown",
   "metadata": {},
   "source": [
    "### 3. Write a Python program to find smallest number in a list?"
   ]
  },
  {
   "cell_type": "code",
   "execution_count": 9,
   "metadata": {},
   "outputs": [
    {
     "name": "stdout",
     "output_type": "stream",
     "text": [
      "Smallest number in list [4, 81, 15, 5, 11, 17, 29, 96, 45] is 4 \n"
     ]
    }
   ],
   "source": [
    "myList2 = [4,81,15,5,11,17,29,96,45]\n",
    "\n",
    "print(\"Smallest number in list {l2} is {n} \".format(l2=myList2, n=min(myList2)))"
   ]
  },
  {
   "cell_type": "markdown",
   "metadata": {},
   "source": [
    "### 4. Write a Python program to find largest number in a list?"
   ]
  },
  {
   "cell_type": "code",
   "execution_count": 13,
   "metadata": {},
   "outputs": [
    {
     "name": "stdout",
     "output_type": "stream",
     "text": [
      "Largest number in list [24, 81, 125, 52, 112, 217, 229, 296, 245] is 296 \n"
     ]
    }
   ],
   "source": [
    "myList3 = [24,81,125,52,112,217,229,296,245]\n",
    "\n",
    "print(\"Largest number in list {l2} is {n} \".format(l2=myList3, n=max(myList3)))"
   ]
  },
  {
   "cell_type": "markdown",
   "metadata": {},
   "source": [
    "### 5. Write a Python program to find second largest number in a list?"
   ]
  },
  {
   "cell_type": "code",
   "execution_count": 16,
   "metadata": {},
   "outputs": [
    {
     "name": "stdout",
     "output_type": "stream",
     "text": [
      "Second Largest number in list [24, 81, 125, 52, 112, 217, 229, 296, 245] is 245 \n"
     ]
    }
   ],
   "source": [
    "myList4 = [24,81,125,52,112,217,229,296,245]\n",
    "\n",
    "print(\"Second Largest number in list {l2} is {n} \".format(l2=myList4, n=sorted(myList4)[-2]))"
   ]
  },
  {
   "cell_type": "markdown",
   "metadata": {},
   "source": [
    "### 6. Write a Python program to find N largest elements from a list?"
   ]
  },
  {
   "cell_type": "code",
   "execution_count": 22,
   "metadata": {},
   "outputs": [
    {
     "name": "stdout",
     "output_type": "stream",
     "text": [
      "4 Largest number in list [25, 5, 14, 84, 65, 25, 41, 91, 55, 85] are [65, 84, 85, 91] \n"
     ]
    }
   ],
   "source": [
    "num = 4\n",
    "myList5 = [25,5,14,84,65,25,41,91,55,85]\n",
    "\n",
    "print(\"{num} Largest number in list {l2} are {n} \".format(num=num,l2=myList5, n=sorted(myList5)[-num:]))"
   ]
  },
  {
   "cell_type": "markdown",
   "metadata": {},
   "source": [
    "### 7. Write a Python program to print even numbers in a list?"
   ]
  },
  {
   "cell_type": "code",
   "execution_count": 28,
   "metadata": {},
   "outputs": [
    {
     "name": "stdout",
     "output_type": "stream",
     "text": [
      "Even numbers in [25, 5, 14, 84, 65, 25, 41, 91, 55, 85, 82, 74, 88, 89, 56, 20] are :  14 84 82 74 88 56 20 "
     ]
    }
   ],
   "source": [
    "myList6 = [25,5,14,84,65,25,41,91,55,85,82,74,88,89,56,20]\n",
    "\n",
    "print(\"Even numbers in {l} are : \".format(l=myList6),end=\" \")\n",
    "\n",
    "for i in myList6:\n",
    "    if i%2 == 0:\n",
    "        print(i,end=\" \")"
   ]
  },
  {
   "cell_type": "markdown",
   "metadata": {},
   "source": [
    "### 8. Write a Python program to print odd numbers in a List?    "
   ]
  },
  {
   "cell_type": "code",
   "execution_count": 31,
   "metadata": {},
   "outputs": [
    {
     "name": "stdout",
     "output_type": "stream",
     "text": [
      "Odd numbers in [25, 5, 14, 84, 65, 25, 41, 91, 55, 85, 82, 74, 88, 89, 56, 20] are :  25 5 65 25 41 91 55 85 89 "
     ]
    }
   ],
   "source": [
    "myList7 = [25,5,14,84,65,25,41,91,55,85,82,74,88,89,56,20]\n",
    "\n",
    "print(\"Odd numbers in {l} are : \".format(l=myList7),end=\" \")\n",
    "\n",
    "for i in myList7:\n",
    "    if i%2 != 0:\n",
    "        print(i,end=\" \")"
   ]
  },
  {
   "cell_type": "markdown",
   "metadata": {},
   "source": [
    "### 9. Write a Python program to Remove empty List from List?"
   ]
  },
  {
   "cell_type": "code",
   "execution_count": 2,
   "metadata": {},
   "outputs": [
    {
     "name": "stdout",
     "output_type": "stream",
     "text": [
      "Given List is  [[23, 4, 5, 5, 6], [], [5, 3], [7], []]\n",
      "New list is :  [[23, 4, 5, 5, 6], [5, 3], [7]]\n"
     ]
    }
   ],
   "source": [
    "List1 = [[23,4,5,5,6],[],[5,3],[7],[]]\n",
    "print(\"Given List is \",List1)\n",
    "\n",
    "for i in List1:\n",
    "    if len(i) == 0:\n",
    "        List1.remove(i)\n",
    "        \n",
    "print(\"New list is : \",List1)"
   ]
  },
  {
   "cell_type": "markdown",
   "metadata": {},
   "source": [
    "### 10. Write a Python program to Cloning or Copying a list?"
   ]
  },
  {
   "cell_type": "code",
   "execution_count": 6,
   "metadata": {},
   "outputs": [
    {
     "name": "stdout",
     "output_type": "stream",
     "text": [
      "Orginal List:  [25, 5, 14, 84, 65, 25, 41]\n",
      "Clone List  :  [25, 5, 14, 84, 65, 25, 41]\n"
     ]
    }
   ],
   "source": [
    "List2 = [25,5,14,84,65,25,41]\n",
    "\n",
    "def cloning(l1):\n",
    "    l2 = l1[:]\n",
    "    return l2\n",
    "\n",
    "CloneList = cloning(List2)\n",
    "print(\"Orginal List: \",List2)\n",
    "print(\"Clone List  : \",CloneList)"
   ]
  },
  {
   "cell_type": "markdown",
   "metadata": {},
   "source": [
    "### 11. Write a Python program to Count occurrences of an element in a list?"
   ]
  },
  {
   "cell_type": "code",
   "execution_count": 11,
   "metadata": {},
   "outputs": [
    {
     "name": "stdout",
     "output_type": "stream",
     "text": [
      "Enter a number to find it's occurrences: 2\n"
     ]
    },
    {
     "data": {
      "text/plain": [
       "5"
      ]
     },
     "execution_count": 11,
     "metadata": {},
     "output_type": "execute_result"
    }
   ],
   "source": [
    "List3 = [2,5,4,4,6,2,4,5,5,6,2,2,3,5,1,3,4,2]\n",
    "\n",
    "num = int(input(\"Enter a number to find it's occurrences: \"))\n",
    "\n",
    "List3.count(num)"
   ]
  }
 ],
 "metadata": {
  "kernelspec": {
   "display_name": "Python 3",
   "language": "python",
   "name": "python3"
  },
  "language_info": {
   "codemirror_mode": {
    "name": "ipython",
    "version": 3
   },
   "file_extension": ".py",
   "mimetype": "text/x-python",
   "name": "python",
   "nbconvert_exporter": "python",
   "pygments_lexer": "ipython3",
   "version": "3.8.5"
  }
 },
 "nbformat": 4,
 "nbformat_minor": 4
}
