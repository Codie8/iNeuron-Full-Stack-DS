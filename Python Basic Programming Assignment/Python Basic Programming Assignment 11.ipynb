{
 "cells": [
  {
   "cell_type": "markdown",
   "metadata": {},
   "source": [
    "### 1. Write a Python program to find words which are greater than given length k?"
   ]
  },
  {
   "cell_type": "code",
   "execution_count": 7,
   "metadata": {},
   "outputs": [
    {
     "name": "stdout",
     "output_type": "stream",
     "text": [
      "Length of word: 5\n",
      "Wonderful\n"
     ]
    }
   ],
   "source": [
    "words = ['Demo','Tempo',\"One\",\"Wonderful\",\"Enjoy\",\"Funny\",\"As\",\"Of\",\"Now\"]\n",
    "\n",
    "Len = int(input(\"Length of word: \"))\n",
    "\n",
    "for i in words:\n",
    "    if len(i) > Len:\n",
    "        print(i)"
   ]
  },
  {
   "cell_type": "markdown",
   "metadata": {},
   "source": [
    "### 2. Write a Python program for removing i-th character from a string?"
   ]
  },
  {
   "cell_type": "code",
   "execution_count": 14,
   "metadata": {},
   "outputs": [
    {
     "name": "stdout",
     "output_type": "stream",
     "text": [
      "Enter index to remove from above string : 1\n"
     ]
    },
    {
     "data": {
      "text/plain": [
       "'Wnderful'"
      ]
     },
     "execution_count": 14,
     "metadata": {},
     "output_type": "execute_result"
    }
   ],
   "source": [
    "str1 = \"Wonderful\"\n",
    "\n",
    "index = int(input(\"Enter index to remove from above string : \"))\n",
    "\n",
    "str1 = str1[:index] + str1[index+1:]\n",
    "str1"
   ]
  },
  {
   "cell_type": "markdown",
   "metadata": {},
   "source": [
    "### 3. Write a Python program to split and join a string?"
   ]
  },
  {
   "cell_type": "code",
   "execution_count": 22,
   "metadata": {},
   "outputs": [
    {
     "name": "stdout",
     "output_type": "stream",
     "text": [
      "Orginal String :  This is Demo String\n",
      "\n",
      "Split :  ['This', 'is', 'Demo', 'String']\n",
      "\n",
      "Join :  This is Demo String\n"
     ]
    }
   ],
   "source": [
    "str2 = \"This is Demo String\"\n",
    "print(\"Orginal String : \",str2)\n",
    "\n",
    "# Split\n",
    "st1 = str2.split(' ')\n",
    "print(\"\\nSplit : \",st1)\n",
    "\n",
    "# Join\n",
    "st2 =\"\"\n",
    "for i in str2:\n",
    "    st2 += i\n",
    "\n",
    "print(\"\\nJoin : \",st2)"
   ]
  },
  {
   "cell_type": "markdown",
   "metadata": {},
   "source": [
    "### 4. Write a Python to check if a given string is binary string or not?"
   ]
  },
  {
   "cell_type": "code",
   "execution_count": 30,
   "metadata": {},
   "outputs": [
    {
     "name": "stdout",
     "output_type": "stream",
     "text": [
      "Given String is Binary\n"
     ]
    }
   ],
   "source": [
    "str3 = \"01010101101010\"\n",
    "\n",
    "count = 0\n",
    "for i in str3:\n",
    "    if i == \"0\" or i == \"1\":\n",
    "        count += 1\n",
    "        \n",
    "if count == len(str3):\n",
    "    print(\"Given String is Binary\")\n",
    "else :\n",
    "    print('Given String is not Binary')"
   ]
  },
  {
   "cell_type": "markdown",
   "metadata": {},
   "source": [
    "### 5. Write a Python program to find uncommon words from two Strings?"
   ]
  },
  {
   "cell_type": "code",
   "execution_count": 38,
   "metadata": {},
   "outputs": [
    {
     "name": "stdout",
     "output_type": "stream",
     "text": [
      "['for', 'check', 'not']\n"
     ]
    }
   ],
   "source": [
    "s1 = \"Hello this is demo string for check\"\n",
    "s2 = \"Hello this is not demo string\"\n",
    "\n",
    "uncom = []\n",
    "\n",
    "for i in s1.split(\" \"):\n",
    "    if i not in s2:\n",
    "        uncom.append(i)\n",
    "            \n",
    "for i in s2.split(\" \"):\n",
    "    if i not in s1:\n",
    "        uncom.append(i)\n",
    "            \n",
    "print(uncom)"
   ]
  },
  {
   "cell_type": "markdown",
   "metadata": {},
   "source": [
    "### 6. Write a Python to find all duplicate characters in string?"
   ]
  },
  {
   "cell_type": "code",
   "execution_count": 65,
   "metadata": {},
   "outputs": [
    {
     "name": "stdout",
     "output_type": "stream",
     "text": [
      "['t', 'i', 's']\n"
     ]
    }
   ],
   "source": [
    "s3 = \"thisisdemostring\"\n",
    "dup = []\n",
    "\n",
    "for i in s3:\n",
    "    if s3.count(i) > 1:\n",
    "        if i not in dup:\n",
    "            dup.append(i)\n",
    "print(dup)"
   ]
  },
  {
   "cell_type": "markdown",
   "metadata": {},
   "source": [
    "### 7. Write a Python Program to check if a string contains any special character?"
   ]
  },
  {
   "cell_type": "code",
   "execution_count": 69,
   "metadata": {},
   "outputs": [
    {
     "name": "stdout",
     "output_type": "stream",
     "text": [
      "String contains special character :  ['$']\n"
     ]
    }
   ],
   "source": [
    "spl = '[@_!#$%^&*()<>?/\\|}{~:]'\n",
    "\n",
    "s4 = \"this is $ string\"\n",
    "sp = []\n",
    "count = 0\n",
    "for i in s4:\n",
    "    if i in spl:\n",
    "        count +=1\n",
    "        sp.append(i)\n",
    "if count > 0:\n",
    "    print(\"String contains special character : \",sp)"
   ]
  }
 ],
 "metadata": {
  "kernelspec": {
   "display_name": "Python 3",
   "language": "python",
   "name": "python3"
  },
  "language_info": {
   "codemirror_mode": {
    "name": "ipython",
    "version": 3
   },
   "file_extension": ".py",
   "mimetype": "text/x-python",
   "name": "python",
   "nbconvert_exporter": "python",
   "pygments_lexer": "ipython3",
   "version": "3.8.5"
  }
 },
 "nbformat": 4,
 "nbformat_minor": 4
}
