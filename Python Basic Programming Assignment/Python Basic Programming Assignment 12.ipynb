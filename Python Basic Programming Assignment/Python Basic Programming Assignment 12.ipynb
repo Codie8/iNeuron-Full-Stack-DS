{
 "cells": [
  {
   "cell_type": "markdown",
   "metadata": {},
   "source": [
    "### 1. Write a Python program to Extract Unique values dictionary values?"
   ]
  },
  {
   "cell_type": "code",
   "execution_count": 1,
   "metadata": {},
   "outputs": [
    {
     "name": "stdout",
     "output_type": "stream",
     "text": [
      "Unique values  {3, 12, 13}\n"
     ]
    }
   ],
   "source": [
    "dict1 = {\"k1\" : 12,\n",
    "       \"k2\":13,\n",
    "       \"k3\":3,\n",
    "       \"k4\":3,\n",
    "       \"k5\":13,\n",
    "       \"k6\":13,\n",
    "       \"k7\":3}\n",
    "\n",
    "print(\"Unique values \",set(dict1.values()))"
   ]
  },
  {
   "cell_type": "markdown",
   "metadata": {},
   "source": [
    "### 2. Write a Python program to find the sum of all items in a dictionary?"
   ]
  },
  {
   "cell_type": "code",
   "execution_count": 2,
   "metadata": {},
   "outputs": [
    {
     "name": "stdout",
     "output_type": "stream",
     "text": [
      "Sum of dictionary  60\n"
     ]
    }
   ],
   "source": [
    "dict1 = {\"k1\" : 12,\n",
    "       \"k2\":13,\n",
    "       \"k3\":3,\n",
    "       \"k4\":3,\n",
    "       \"k5\":13,\n",
    "       \"k6\":13,\n",
    "       \"k7\":3}\n",
    "\n",
    "print(\"Sum of dictionary \",sum(dict1.values()))"
   ]
  },
  {
   "cell_type": "markdown",
   "metadata": {},
   "source": [
    "### 3. Write a Python program to Merging two Dictionaries?"
   ]
  },
  {
   "cell_type": "code",
   "execution_count": 3,
   "metadata": {},
   "outputs": [],
   "source": [
    "dict1 = { \"k1\" : 12,\n",
    "          \"k2\":13,\n",
    "          \"k3\":5\n",
    "        }\n",
    "\n",
    "dict2 = {   \"k4\":25,\n",
    "            \"k5\":33,\n",
    "            \"k6\":2\n",
    "        }\n",
    "dict3 = {}"
   ]
  },
  {
   "cell_type": "code",
   "execution_count": 4,
   "metadata": {},
   "outputs": [
    {
     "name": "stdout",
     "output_type": "stream",
     "text": [
      "Merge of \n",
      "{'k1': 12, 'k2': 13, 'k3': 5} and \n",
      "{'k4': 25, 'k5': 33, 'k6': 2} is \n",
      "{'k1': 12, 'k2': 13, 'k3': 5, 'k4': 25, 'k5': 33, 'k6': 2}\n"
     ]
    }
   ],
   "source": [
    "dict3.update(dict1)\n",
    "dict3.update(dict2)\n",
    "print(\"Merge of \\n{a} and \\n{b} is \\n{c}\".format(a=dict1,b=dict2,c=dict3))"
   ]
  },
  {
   "cell_type": "markdown",
   "metadata": {},
   "source": [
    "### 4. Write a Python program to convert key-values list to flat dictionary?"
   ]
  },
  {
   "cell_type": "code",
   "execution_count": 8,
   "metadata": {},
   "outputs": [
    {
     "data": {
      "text/plain": [
       "{'Rahul': 78, 'Raj': 56, 'Rajesh': 59, 'Ramesh': 74}"
      ]
     },
     "execution_count": 8,
     "metadata": {},
     "output_type": "execute_result"
    }
   ],
   "source": [
    "dict1 = {\"Names\":['Rahul','Raj','Rajesh','Ramesh'],\"Marks\":[78,56,59,74]}\n",
    "res = zip(dict1['Names'], dict1['Marks'])\n",
    "dict(res)"
   ]
  },
  {
   "cell_type": "markdown",
   "metadata": {},
   "source": [
    "### 5. Write a Python program to insertion at the beginning in OrderedDict?"
   ]
  },
  {
   "cell_type": "code",
   "execution_count": 16,
   "metadata": {},
   "outputs": [
    {
     "data": {
      "text/plain": [
       "OrderedDict([('k4', 8), ('k1', 12), ('k2', 13), ('k3', 5)])"
      ]
     },
     "execution_count": 16,
     "metadata": {},
     "output_type": "execute_result"
    }
   ],
   "source": [
    "from collections import OrderedDict\n",
    "\n",
    "dict1 = OrderedDict({ \"k1\" : 12,\n",
    "          \"k2\":13,\n",
    "          \"k3\":5\n",
    "        })\n",
    "\n",
    "dict1.update({\"k4\":8})\n",
    "dict1.move_to_end(\"k4\",last=False)\n",
    "dict1"
   ]
  },
  {
   "cell_type": "markdown",
   "metadata": {},
   "source": [
    "### 6. Write a Python program to check order of character in string using OrderedDict()?"
   ]
  },
  {
   "cell_type": "code",
   "execution_count": 21,
   "metadata": {},
   "outputs": [
    {
     "name": "stdout",
     "output_type": "stream",
     "text": [
      "true\n"
     ]
    }
   ],
   "source": [
    "from collections import OrderedDict \n",
    "  \n",
    "def checkOrder(input, pattern): \n",
    "      \n",
    "    dict = OrderedDict.fromkeys(input) \n",
    "  \n",
    "    ptrlen = 0\n",
    "    for key,value in dict.items(): \n",
    "        if (key == pattern[ptrlen]): \n",
    "            ptrlen = ptrlen + 1\n",
    "          \n",
    "        if (ptrlen == (len(pattern))): \n",
    "            return 'true'\n",
    "  \n",
    "    return 'false'\n",
    "\n",
    "if __name__ == \"__main__\": \n",
    "    input = 'engineers rock'\n",
    "    pattern = 'egr'\n",
    "    print (checkOrder(input,pattern)) "
   ]
  },
  {
   "cell_type": "markdown",
   "metadata": {},
   "source": [
    "### Write a Python program to sort Python Dictionaries by Key or Value?"
   ]
  },
  {
   "cell_type": "code",
   "execution_count": 26,
   "metadata": {},
   "outputs": [
    {
     "name": "stdout",
     "output_type": "stream",
     "text": [
      "OrderedDict([('k1', 12), ('k2', 5), ('k3', 13)])\n"
     ]
    }
   ],
   "source": [
    "from collections import OrderedDict\n",
    " \n",
    "dict1 = { \"k1\" : 12,\n",
    "          \"k3\":13,\n",
    "          \"k2\":5\n",
    "        }\n",
    "dict1 = OrderedDict(sorted(dict1.items()))\n",
    "print(dict1)"
   ]
  }
 ],
 "metadata": {
  "kernelspec": {
   "display_name": "Python 3",
   "language": "python",
   "name": "python3"
  },
  "language_info": {
   "codemirror_mode": {
    "name": "ipython",
    "version": 3
   },
   "file_extension": ".py",
   "mimetype": "text/x-python",
   "name": "python",
   "nbconvert_exporter": "python",
   "pygments_lexer": "ipython3",
   "version": "3.8.5"
  }
 },
 "nbformat": 4,
 "nbformat_minor": 4
}
