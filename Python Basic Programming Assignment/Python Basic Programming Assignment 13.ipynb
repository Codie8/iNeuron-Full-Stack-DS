{
 "cells": [
  {
   "cell_type": "markdown",
   "metadata": {},
   "source": [
    "### Question 1:\n",
    "\n",
    "Write a program that calculates and prints the value according to the given formula:\n",
    "\n",
    "Q = Square root of [(2 * C * D)/H]\n",
    "\n",
    "Following are the fixed values of C and H:\n",
    "\n",
    "C is 50. H is 30.\n",
    "\n",
    "D is the variable whose values should be input to your program in a comma-separated\n",
    "\n",
    "sequence."
   ]
  },
  {
   "cell_type": "code",
   "execution_count": 31,
   "metadata": {},
   "outputs": [
    {
     "name": "stdout",
     "output_type": "stream",
     "text": [
      "Enter value for D in comma separated sequence \n",
      "100,150,180\n",
      "\n",
      " 18 \n",
      " 22 \n",
      " 24 "
     ]
    }
   ],
   "source": [
    "D = list(input(\"Enter value for D in comma separated sequence \\n\"))\n",
    "list(D)\n",
    "\n",
    "num = \"\"\n",
    "l1 = []\n",
    "sz = len(D)\n",
    "count = 0\n",
    "\n",
    "for i in D:\n",
    "    count += 1\n",
    "    if i != \",\":\n",
    "        num = num + i\n",
    "    else :\n",
    "        l1.append(num)\n",
    "        num = \"\"\n",
    "    if count == sz:\n",
    "        l1.append(num)\n",
    "l1\n",
    "\n",
    "\n",
    "import math\n",
    "C, H = 50, 30\n",
    "\n",
    "for i in l1:\n",
    "    q = (2*C*int(i))/H\n",
    "    Q = math.sqrt(q)\n",
    "    print(\"\\n\",round(Q),end=\" \")"
   ]
  },
  {
   "cell_type": "markdown",
   "metadata": {},
   "source": [
    "### Question 2:\n",
    "\n",
    "Write a program which takes 2 digits, X,Y as input and generates a 2-dimensional array. \n",
    "\n",
    "The element value in the i-th row and j-th column of the array should be i*j.\n",
    "\n",
    "Note: i=0,1.., X-1; j=0,1,¡Y-1.\n",
    "\n",
    "Example\n",
    "\n",
    "Suppose the following inputs are given to the program:\n",
    "\n",
    "3,5\n",
    "\n",
    "Then, the output of the program should be:\n",
    "\n",
    "[[0, 0, 0, 0, 0], [0, 1, 2, 3, 4], [0, 2, 4, 6, 8]]"
   ]
  },
  {
   "cell_type": "code",
   "execution_count": 33,
   "metadata": {},
   "outputs": [
    {
     "name": "stdout",
     "output_type": "stream",
     "text": [
      "Enter value for X : 3\n",
      "Enter Value for Y : 5\n",
      "[[0, 0, 0, 0, 0], [0, 0, 0, 0, 0], [0, 0, 0, 0, 0]]\n"
     ]
    },
    {
     "data": {
      "text/plain": [
       "[[0, 0, 0, 0, 0], [0, 1, 2, 3, 4], [0, 2, 4, 6, 8]]"
      ]
     },
     "execution_count": 33,
     "metadata": {},
     "output_type": "execute_result"
    }
   ],
   "source": [
    "X = int(input(\"Enter value for X : \"))\n",
    "\n",
    "Y = int(input(\"Enter Value for Y : \"))\n",
    "\n",
    "array = [[0] * Y] * X\n",
    "print(array)\n",
    "\n",
    "for i, row in enumerate(array):\n",
    "    arr = []\n",
    "    for j, col in enumerate(row):\n",
    "        a = i * j\n",
    "        arr.append(a)\n",
    "    array[i] = arr\n",
    "array"
   ]
  },
  {
   "cell_type": "markdown",
   "metadata": {},
   "source": [
    "### Question 3:\n",
    "Write a program that accepts a comma separated sequence of words as input and prints the\n",
    "\n",
    "words in a comma-separated sequence after sorting them alphabetically.\n",
    "\n",
    "Suppose the following input is supplied to the program:\n",
    "\n",
    "without,hello,bag,world\n",
    "\n",
    "Then, the output should be:\n",
    "\n",
    "bag,hello,without,world"
   ]
  },
  {
   "cell_type": "code",
   "execution_count": 48,
   "metadata": {},
   "outputs": [
    {
     "name": "stdout",
     "output_type": "stream",
     "text": [
      "Enter values without,hello,bag,world\n",
      "Words in Sequence are  bag,hello,without,world\n"
     ]
    }
   ],
   "source": [
    "seq = input(\"Enter values \")\n",
    "\n",
    "words = seq.split(\",\")\n",
    "sortedWords = sorted(words)\n",
    "\n",
    "sz = len(sortedWords)\n",
    "NewSeq = \"\"\n",
    "count = 0\n",
    "for i in sortedWords:\n",
    "    if count != sz:\n",
    "        if NewSeq != \"\":\n",
    "            NewSeq = NewSeq + \",\"+i\n",
    "        else:\n",
    "            NewSeq += i\n",
    "    count += 1\n",
    "        \n",
    "print(\"Words in Sequence are \",NewSeq)"
   ]
  },
  {
   "cell_type": "markdown",
   "metadata": {},
   "source": [
    "### Question 4:\n",
    "\n",
    "Write a program that accepts a sequence of whitespace separated words as input and prints\n",
    "\n",
    "the words after removing all duplicate words and sorting them alphanumerically.\n",
    "\n",
    "Suppose the following input is supplied to the program:\n",
    "    \n",
    "hello world and practice makes perfect and hello world again\n",
    "\n",
    "Then, the output should be:\n",
    "    \n",
    "again and hello makes perfect practice world"
   ]
  },
  {
   "cell_type": "code",
   "execution_count": 12,
   "metadata": {},
   "outputs": [
    {
     "name": "stdout",
     "output_type": "stream",
     "text": [
      "Enter Whitespace separated words hello world and practice makes perfect and hello world again\n"
     ]
    },
    {
     "data": {
      "text/plain": [
       "'again and hello makes perfect practice world'"
      ]
     },
     "execution_count": 12,
     "metadata": {},
     "output_type": "execute_result"
    }
   ],
   "source": [
    "words = input(\"Enter Whitespace separated words \")\n",
    "\n",
    "wordsList = sorted(set(words.split(\" \")))\n",
    "\n",
    "word = \"\"\n",
    "for i in wordsList:\n",
    "    if word !=\"\":\n",
    "        word = word + \" \" + i\n",
    "    else :\n",
    "        word = i\n",
    "word"
   ]
  },
  {
   "cell_type": "markdown",
   "metadata": {},
   "source": [
    "### Question 5:\n",
    "\n",
    "Write a program that accepts a sentence and calculate the number of letters and digits.\n",
    "\n",
    "Suppose the following input is supplied to the program:\n",
    "\n",
    "hello world! 123\n",
    "\n",
    "Then, the output should be:\n",
    "\n",
    "LETTERS 10\n",
    "\n",
    "DIGITS 3"
   ]
  },
  {
   "cell_type": "code",
   "execution_count": 19,
   "metadata": {},
   "outputs": [
    {
     "name": "stdout",
     "output_type": "stream",
     "text": [
      "Enter Your sentence hello world! 123\n",
      "LETTERS  10\n",
      "DIGITS  3\n"
     ]
    }
   ],
   "source": [
    "sentence  = input(\"Enter Your sentence \")\n",
    "nums = []\n",
    "alpha = []\n",
    "# special_characters = \"!@#$%^&*()-+?_=,'\"'<>/'\"\n",
    "for i in sentence:\n",
    "    if i.isdigit():\n",
    "        nums.append(i)\n",
    "    elif i.isalpha():\n",
    "        alpha.append(i)\n",
    "\n",
    "print(\"LETTERS \",len(alpha))\n",
    "print(\"DIGITS \",len(nums))"
   ]
  },
  {
   "cell_type": "markdown",
   "metadata": {},
   "source": [
    "### Question 6:\n",
    "A website requires the users to input username and password to register. Write a program to\n",
    "\n",
    "check the validity of password input by users.\n",
    "\n",
    "Following are the criteria for checking the password:\n",
    "\n",
    "1. At least 1 letter between [a-z]\n",
    "\n",
    "2. At least 1 number between [0-9]\n",
    "\n",
    "1. At least 1 letter between [A-Z]\n",
    "\n",
    "3. At least 1 character from [$#@]\n",
    "\n",
    "4. Minimum length of transaction password: 6\n",
    "\n",
    "5. Maximum length of transaction password: 12\n",
    "\n",
    "Your program should accept a sequence of comma separated passwords and will check them\n",
    "\n",
    "according to the above criteria. Passwords that match the criteria are to be printed, each\n",
    "\n",
    "separated by a comma.\n",
    "\n",
    "\n",
    "Example\n",
    "\n",
    "If the following passwords are given as input to the program:\n",
    "\n",
    "ABd1234@1,a F1#,2w3E*,2We3345\n",
    "\n",
    "Then, the output of the program should be:\n",
    "\n",
    "ABd1234@1"
   ]
  },
  {
   "cell_type": "code",
   "execution_count": 10,
   "metadata": {},
   "outputs": [
    {
     "name": "stdout",
     "output_type": "stream",
     "text": [
      "Enter comma separated passwords ABd1234@1,a F1#,2w3E*,2We3345\n"
     ]
    },
    {
     "data": {
      "text/plain": [
       "['ABd1234@1', 'a F1#', '2w3E*', '2We3345']"
      ]
     },
     "execution_count": 10,
     "metadata": {},
     "output_type": "execute_result"
    }
   ],
   "source": [
    "passwords = input(\"Enter comma separated passwords \")\n",
    "\n",
    "allPasswords = passwords.split(\",\")\n",
    "allPasswords"
   ]
  },
  {
   "cell_type": "code",
   "execution_count": 11,
   "metadata": {},
   "outputs": [
    {
     "name": "stdout",
     "output_type": "stream",
     "text": [
      "Password ABd1234@1 is accepted \n"
     ]
    }
   ],
   "source": [
    "special_characters = \"!@#$%^&*()-+?_=,<>/'\"\n",
    "\n",
    "\n",
    "for plist in allPasswords:\n",
    "\n",
    "    def hasNumbers(plist):\n",
    "        return any(char.isdigit() for char in plist)\n",
    "\n",
    "    def hasSmallAlpha(plist):\n",
    "        return any(char.isalpha() and char.islower() for char in plist)\n",
    "\n",
    "    def hasCapAlpha(plist):\n",
    "        return any(char.isalpha() and char.isupper() for char in plist)\n",
    "\n",
    "    def hasspecialChar(plist):\n",
    "        return any(char in special_characters for char in plist)\n",
    "\n",
    "    score = 0\n",
    "\n",
    "    if hasNumbers(plist) == True:\n",
    "        score += 1\n",
    "\n",
    "    if hasSmallAlpha(plist) == True:\n",
    "        score += 1\n",
    "\n",
    "    if hasCapAlpha(plist) == True:\n",
    "        score += 1\n",
    "\n",
    "    if hasspecialChar(plist) == True:\n",
    "        score += 1\n",
    "\n",
    "    if len(plist) >= 6 and len(plist) <= 12:\n",
    "        score += 1\n",
    "\n",
    "    if score >= 5:\n",
    "        print(\"Password {a} is accepted \".format(a=plist))"
   ]
  }
 ],
 "metadata": {
  "kernelspec": {
   "display_name": "Python 3",
   "language": "python",
   "name": "python3"
  },
  "language_info": {
   "codemirror_mode": {
    "name": "ipython",
    "version": 3
   },
   "file_extension": ".py",
   "mimetype": "text/x-python",
   "name": "python",
   "nbconvert_exporter": "python",
   "pygments_lexer": "ipython3",
   "version": "3.8.5"
  }
 },
 "nbformat": 4,
 "nbformat_minor": 4
}
