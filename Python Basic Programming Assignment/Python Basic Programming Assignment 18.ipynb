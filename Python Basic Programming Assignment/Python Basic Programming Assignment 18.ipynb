{
 "cells": [
  {
   "cell_type": "markdown",
   "metadata": {},
   "source": [
    "### Question 1 : Create a function that takes a list of non-negative integers and strings and return a new list without the strings.\n",
    "Examples\n",
    "\n",
    "filter_list([1, 2, &quot;a&quot;, &quot;b&quot;]) ➞ [1, 2]\n",
    "\n",
    "filter_list([1, &quot;a&quot;, &quot;b&quot;, 0, 15]) ➞ [1, 0, 15]\n",
    "\n",
    "filter_list([1, 2, &quot;aasf&quot;, &quot;1&quot;, &quot;123&quot;, 123]) ➞ [1, 2, 123]"
   ]
  },
  {
   "cell_type": "code",
   "execution_count": 6,
   "metadata": {},
   "outputs": [
    {
     "data": {
      "text/plain": [
       "[1, 2, 123]"
      ]
     },
     "execution_count": 6,
     "metadata": {},
     "output_type": "execute_result"
    }
   ],
   "source": [
    "def filter_list(list1):\n",
    "    l2 = []\n",
    "    for i in list1:\n",
    "        if type(i) == int:\n",
    "            l2.append(i)\n",
    "    return l2\n",
    "\n",
    "filter_list([1, 2, \"aasf\", \"1\", \"123\", 123])"
   ]
  },
  {
   "cell_type": "markdown",
   "metadata": {},
   "source": [
    "### Question 2 : The &quot;Reverser&quot; takes a string as input and returns that string in reverse order, with the opposite case.\n",
    "Examples\n",
    "\n",
    "reverse(&quot;Hello World&quot;) ➞ &quot;DLROw OLLEh&quot;\n",
    "\n",
    "reverse(&quot;ReVeRsE&quot;) ➞ &quot;eSrEvEr&quot;\n",
    "\n",
    "reverse(&quot;Radar&quot;) ➞ &quot;RADAr&quot;"
   ]
  },
  {
   "cell_type": "code",
   "execution_count": 13,
   "metadata": {},
   "outputs": [
    {
     "data": {
      "text/plain": [
       "'DLROw OLLEh'"
      ]
     },
     "execution_count": 13,
     "metadata": {},
     "output_type": "execute_result"
    }
   ],
   "source": [
    "def reverse(str1):\n",
    "    return str1[::-1].swapcase()\n",
    "\n",
    "reverse(\"Hello World\")"
   ]
  },
  {
   "cell_type": "markdown",
   "metadata": {},
   "source": [
    "### Question 3\n",
    "You can assign variables from lists like this:\n",
    "    \n",
    "lst = [1, 2, 3, 4, 5, 6]\n",
    "\n",
    "first = lst[0]\n",
    "\n",
    "middle = lst[1:-1]\n",
    "\n",
    "last = lst[-1]\n",
    "\n",
    "print(first) ➞ outputs 1\n",
    "\n",
    "print(middle) ➞ outputs [2, 3, 4, 5]\n",
    "\n",
    "print(last) ➞ outputs 6\n",
    "\n",
    "With Python 3, you can assign variables from lists in a much more succinct way. Create variables first, middle and last from the given list using destructuring assignment\n",
    "(check the Resources tab for some examples), where:\n",
    "    \n",
    "first ➞ 1\n",
    "\n",
    "middle ➞ [2, 3, 4, 5]\n",
    "\n",
    "last ➞ 6\n",
    "\n",
    "Your task is to unpack the list writeyourcodehere into three variables, being first,middle, and last, with middle being everything in between the first and last element. Then\n",
    "print all three variables."
   ]
  },
  {
   "cell_type": "code",
   "execution_count": 16,
   "metadata": {},
   "outputs": [
    {
     "name": "stdout",
     "output_type": "stream",
     "text": [
      "First  1\n",
      "Middle  [2, 3, 4, 5]\n",
      "Last  6\n"
     ]
    }
   ],
   "source": [
    "def unpackList(l1):\n",
    "    first = l1[0]\n",
    "    middle = l1[1:-1]\n",
    "    last = l1[-1]\n",
    "    print(\"First \",first)\n",
    "    print(\"Middle \",middle)\n",
    "    print(\"Last \",last)\n",
    "    \n",
    "unpackList([1,2,3,4,5,6])"
   ]
  },
  {
   "cell_type": "markdown",
   "metadata": {},
   "source": [
    "### Question 4 Write a function that calculates the factorial of a number recursively.\n",
    "\n",
    "Examples\n",
    "\n",
    "factorial(5) ➞ 120\n",
    "\n",
    "factorial(3) ➞ 6\n",
    "\n",
    "factorial(1) ➞ 1\n",
    "\n",
    "factorial(0) ➞ 1"
   ]
  },
  {
   "cell_type": "code",
   "execution_count": 19,
   "metadata": {},
   "outputs": [
    {
     "data": {
      "text/plain": [
       "120"
      ]
     },
     "execution_count": 19,
     "metadata": {},
     "output_type": "execute_result"
    }
   ],
   "source": [
    "def fact(n):\n",
    "    if n == 1 or n == 0:\n",
    "        return 1\n",
    "    else :\n",
    "        return n * fact(n-1)\n",
    "fact(5)"
   ]
  },
  {
   "cell_type": "markdown",
   "metadata": {},
   "source": [
    "### Question 5 : Write a function that moves all elements of one type to the end of the list.\n",
    "Examples\n",
    "\n",
    "move_to_end([1, 3, 2, 4, 4, 1], 1) ➞ [3, 2, 4, 4, 1, 1]\n",
    "\n",
    " Move all the 1s to the end of the array.\n",
    "\n",
    "move_to_end([7, 8, 9, 1, 2, 3, 4], 9) ➞ [7, 8, 1, 2, 3, 4, 9]\n",
    "\n",
    "move_to_end([&quot;a&quot;, &quot;a&quot;, &quot;a&quot;, &quot;b&quot;], &quot;a&quot;) ➞ [&quot;b&quot;, &quot;a&quot;, &quot;a&quot;, &quot;a&quot;]"
   ]
  },
  {
   "cell_type": "code",
   "execution_count": 20,
   "metadata": {
    "scrolled": true
   },
   "outputs": [
    {
     "data": {
      "text/plain": [
       "[1, 3, 4, 1, 2]"
      ]
     },
     "execution_count": 20,
     "metadata": {},
     "output_type": "execute_result"
    }
   ],
   "source": [
    "def move_to_end(lst1,n):\n",
    "    lst1.pop(n)\n",
    "    lst1.append(n)\n",
    "    return lst1\n",
    "\n",
    "move_to_end([1,3,2,4,1],2)"
   ]
  }
 ],
 "metadata": {
  "kernelspec": {
   "display_name": "Python 3",
   "language": "python",
   "name": "python3"
  },
  "language_info": {
   "codemirror_mode": {
    "name": "ipython",
    "version": 3
   },
   "file_extension": ".py",
   "mimetype": "text/x-python",
   "name": "python",
   "nbconvert_exporter": "python",
   "pygments_lexer": "ipython3",
   "version": "3.8.5"
  }
 },
 "nbformat": 4,
 "nbformat_minor": 4
}
