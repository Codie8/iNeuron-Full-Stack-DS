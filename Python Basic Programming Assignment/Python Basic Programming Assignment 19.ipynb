{
 "cells": [
  {
   "cell_type": "markdown",
   "metadata": {},
   "source": [
    "### Question1\n",
    "Create a function that takes a string and returns a string in which each character is repeated once.\n",
    "\n",
    "Examples\n",
    "\n",
    "double_char(&quot;String&quot;) ➞ &quot;SSttrriinngg&quot;\n",
    "\n",
    "double_char(&quot;Hello World!&quot;) ➞ &quot;HHeelllloo WWoorrlldd!!&quot;\n",
    "\n",
    "double_char(&quot;1234!_ &quot;) ➞ &quot;11223344!!__ &quot;"
   ]
  },
  {
   "cell_type": "code",
   "execution_count": 1,
   "metadata": {},
   "outputs": [
    {
     "data": {
      "text/plain": [
       "'SSttrriinngg'"
      ]
     },
     "execution_count": 1,
     "metadata": {},
     "output_type": "execute_result"
    }
   ],
   "source": [
    "def double_char(str1):\n",
    "    str2 = \"\"\n",
    "    for i in str1:\n",
    "        str2 += i\n",
    "        str2 += i\n",
    "    return str2\n",
    "\n",
    "double_char(\"String\")"
   ]
  },
  {
   "cell_type": "markdown",
   "metadata": {},
   "source": [
    "### Question2\n",
    "Create a function that reverses a boolean value and returns the string &quot;boolean expected&quot; if another variable type is given.\n",
    "\n",
    "Examples\n",
    "\n",
    "reverse(True) ➞ False\n",
    "\n",
    "reverse(False) ➞ True\n",
    "\n",
    "reverse(0) ➞ &quot;boolean expected&quot;\n",
    "\n",
    "reverse(None) ➞ &quot;boolean expected&quot;"
   ]
  },
  {
   "cell_type": "code",
   "execution_count": 8,
   "metadata": {},
   "outputs": [
    {
     "data": {
      "text/plain": [
       "False"
      ]
     },
     "execution_count": 8,
     "metadata": {},
     "output_type": "execute_result"
    }
   ],
   "source": [
    "def reverse(data):\n",
    "    if type(data) == bool:\n",
    "        return not data\n",
    "    else :\n",
    "        return \"boolean expected\"\n",
    "    \n",
    "reverse(True)"
   ]
  },
  {
   "cell_type": "markdown",
   "metadata": {},
   "source": [
    "### Question3\n",
    "Create a function that returns the thickness (in meters) of a piece of paper after folding it n number of times. The paper starts off with a thickness of 0.5mm.\n",
    "\n",
    "Examples\n",
    "\n",
    "num_layers(1) ➞ &quot;0.001m&quot;\n",
    "\n",
    "##### Paper folded once is 1mm (equal to 0.001m)\n",
    "\n",
    "num_layers(4) ➞ &quot;0.008m&quot;\n",
    "\n",
    "##### Paper folded 4 times is 8mm (equal to 0.008m)\n",
    "\n",
    "num_layers(21) ➞ &quot;1048.576m&quot;\n",
    "\n",
    "##### Paper folded 21 times is 1048576mm (equal to 1048.576m)"
   ]
  },
  {
   "cell_type": "code",
   "execution_count": 43,
   "metadata": {},
   "outputs": [
    {
     "data": {
      "text/plain": [
       "'1048.576m'"
      ]
     },
     "execution_count": 43,
     "metadata": {},
     "output_type": "execute_result"
    }
   ],
   "source": [
    "def num_layers(n):\n",
    "    sum = 0.5\n",
    "    for i in range(n):\n",
    "        sum *= 2\n",
    "        \n",
    "    return str(sum/1000) + 'm'\n",
    "\n",
    "num_layers(21)"
   ]
  },
  {
   "cell_type": "markdown",
   "metadata": {},
   "source": [
    "### Question4 Create a function that takes a single string as argument and returns an ordered list containing the indices of all capital letters in the string.\n",
    "\n",
    "Examples\n",
    "\n",
    "index_of_caps(&quot;eDaBiT&quot;) ➞ [1, 3, 5]\n",
    "\n",
    "index_of_caps(&quot;eQuINoX&quot;) ➞ [1, 3, 4, 6]\n",
    "\n",
    "index_of_caps(&quot;determine&quot;) ➞ []\n",
    "\n",
    "index_of_caps(&quot;STRIKE&quot;) ➞ [0, 1, 2, 3, 4, 5]\n",
    "\n",
    "index_of_caps(&quot;sUn&quot;) ➞ [1]"
   ]
  },
  {
   "cell_type": "code",
   "execution_count": 52,
   "metadata": {},
   "outputs": [
    {
     "data": {
      "text/plain": [
       "[1, 3, 4, 6]"
      ]
     },
     "execution_count": 52,
     "metadata": {},
     "output_type": "execute_result"
    }
   ],
   "source": [
    "def index_of_caps(str1):\n",
    "    lst1 = []\n",
    "    for i in str1:\n",
    "        if i.isupper():\n",
    "            lst1.append(str1.index(i))\n",
    "    return lst1\n",
    "\n",
    "index_of_caps(\"eQuINoX\")"
   ]
  },
  {
   "cell_type": "markdown",
   "metadata": {},
   "source": [
    "### Question5 Using list comprehensions, create a function that finds all even numbers from 1 to the given number.\n",
    "\n",
    "Examples\n",
    "\n",
    "find_even_nums(8) ➞ [2, 4, 6, 8]\n",
    "\n",
    "find_even_nums(4) ➞ [2, 4]\n",
    "\n",
    "find_even_nums(2) ➞ [2]"
   ]
  },
  {
   "cell_type": "code",
   "execution_count": 57,
   "metadata": {},
   "outputs": [
    {
     "data": {
      "text/plain": [
       "[2, 4]"
      ]
     },
     "execution_count": 57,
     "metadata": {},
     "output_type": "execute_result"
    }
   ],
   "source": [
    "def find_even_nums(n):\n",
    "    lst1 = []\n",
    "    for i in range(1,n+1):\n",
    "        if i % 2 == 0:\n",
    "            lst1.append(i)\n",
    "    return lst1\n",
    "\n",
    "find_even_nums(4)"
   ]
  }
 ],
 "metadata": {
  "kernelspec": {
   "display_name": "Python 3",
   "language": "python",
   "name": "python3"
  },
  "language_info": {
   "codemirror_mode": {
    "name": "ipython",
    "version": 3
   },
   "file_extension": ".py",
   "mimetype": "text/x-python",
   "name": "python",
   "nbconvert_exporter": "python",
   "pygments_lexer": "ipython3",
   "version": "3.8.5"
  }
 },
 "nbformat": 4,
 "nbformat_minor": 4
}
