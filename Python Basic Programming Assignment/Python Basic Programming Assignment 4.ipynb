{
 "cells": [
  {
   "cell_type": "markdown",
   "metadata": {},
   "source": [
    "### 1. Write a Python Program to Find the Factorial of a Number?\n",
    "\n",
    "### Ans:"
   ]
  },
  {
   "cell_type": "code",
   "execution_count": 14,
   "metadata": {},
   "outputs": [
    {
     "name": "stdout",
     "output_type": "stream",
     "text": [
      "Factorial is of 6 is : 720\n"
     ]
    }
   ],
   "source": [
    "fact = 0\n",
    "num = 6\n",
    "\n",
    "for i in range(num,1,-1):\n",
    "    if fact == 0:\n",
    "        fact = i\n",
    "    else :\n",
    "        fact = fact * i\n",
    "\n",
    "print(\"Factorial is of {num} is : {fact}\".format(num=num, fact=fact))"
   ]
  },
  {
   "cell_type": "markdown",
   "metadata": {},
   "source": [
    "### 2. Write a Python Program to Display the multiplication Table?\n",
    "\n",
    "### Ans :"
   ]
  },
  {
   "cell_type": "code",
   "execution_count": 19,
   "metadata": {},
   "outputs": [
    {
     "name": "stdout",
     "output_type": "stream",
     "text": [
      "Table of 12 is : \n",
      "12\n",
      "24\n",
      "36\n",
      "48\n",
      "60\n",
      "72\n",
      "84\n",
      "96\n",
      "108\n",
      "120\n"
     ]
    }
   ],
   "source": [
    "num = 12\n",
    "\n",
    "print(\"Table of {num} is : \".format(num=num))\n",
    "for i in range(1,11):\n",
    "    print(i*num)"
   ]
  },
  {
   "cell_type": "markdown",
   "metadata": {},
   "source": [
    "### 3. Write a Python Program to Print the Fibonacci sequence?\n",
    "\n",
    "### Ans :\n"
   ]
  },
  {
   "cell_type": "code",
   "execution_count": 32,
   "metadata": {},
   "outputs": [
    {
     "name": "stdout",
     "output_type": "stream",
     "text": [
      "0 1 1 2 3 "
     ]
    }
   ],
   "source": [
    "def Fibonacci(num):\n",
    "    series = [0,1,1];\n",
    "    if num < 0:\n",
    "        print(\"Incorrect input\")\n",
    " \n",
    "    elif num == 0:\n",
    "        return 0\n",
    " \n",
    "    elif num == 1 or num == 2:\n",
    "        return 1\n",
    "    else:\n",
    "        return (Fibonacci(num-1) + Fibonacci(num-2))\n",
    " \n",
    "\n",
    "n = 5\n",
    "\n",
    "for i in range(n):\n",
    "    print(Fibonacci(i),end=\" \")"
   ]
  },
  {
   "cell_type": "markdown",
   "metadata": {},
   "source": [
    "### 4. Write a Python Program to Check Armstrong Number?\n",
    "\n",
    "### Ans :\n"
   ]
  },
  {
   "cell_type": "code",
   "execution_count": 38,
   "metadata": {},
   "outputs": [
    {
     "name": "stdout",
     "output_type": "stream",
     "text": [
      "153 is an Armstrong number\n"
     ]
    }
   ],
   "source": [
    "num = 153\n",
    "\n",
    "sum = 0\n",
    "\n",
    "temp = num\n",
    "while temp > 0:\n",
    "    digit = temp % 10\n",
    "    sum = sum + digit **3\n",
    "    temp //= 10\n",
    "    \n",
    "if num == sum:\n",
    "    print(num, \"is an Armstrong number\")\n",
    "else :\n",
    "    print(num, \"is not an Armstrong number\")"
   ]
  },
  {
   "cell_type": "markdown",
   "metadata": {},
   "source": [
    "### 5. Write a Python Program to Find Armstrong Number in an Interval?\n",
    "\n",
    "### Ans :\n"
   ]
  },
  {
   "cell_type": "code",
   "execution_count": 47,
   "metadata": {},
   "outputs": [
    {
     "name": "stdout",
     "output_type": "stream",
     "text": [
      "0 is an Armstrong number\n",
      "1 is an Armstrong number\n",
      "2 is not an Armstrong number\n",
      "3 is not an Armstrong number\n",
      "4 is not an Armstrong number\n",
      "5 is not an Armstrong number\n",
      "6 is not an Armstrong number\n",
      "7 is not an Armstrong number\n",
      "8 is not an Armstrong number\n",
      "9 is not an Armstrong number\n",
      "10 is not an Armstrong number\n",
      "11 is not an Armstrong number\n",
      "12 is not an Armstrong number\n",
      "13 is not an Armstrong number\n",
      "14 is not an Armstrong number\n",
      "15 is not an Armstrong number\n",
      "16 is not an Armstrong number\n",
      "17 is not an Armstrong number\n",
      "18 is not an Armstrong number\n",
      "19 is not an Armstrong number\n",
      "20 is not an Armstrong number\n",
      "21 is not an Armstrong number\n",
      "22 is not an Armstrong number\n",
      "23 is not an Armstrong number\n",
      "24 is not an Armstrong number\n",
      "25 is not an Armstrong number\n",
      "26 is not an Armstrong number\n",
      "27 is not an Armstrong number\n",
      "28 is not an Armstrong number\n",
      "29 is not an Armstrong number\n",
      "30 is not an Armstrong number\n",
      "31 is not an Armstrong number\n",
      "32 is not an Armstrong number\n",
      "33 is not an Armstrong number\n",
      "34 is not an Armstrong number\n",
      "35 is not an Armstrong number\n",
      "36 is not an Armstrong number\n",
      "37 is not an Armstrong number\n",
      "38 is not an Armstrong number\n",
      "39 is not an Armstrong number\n",
      "40 is not an Armstrong number\n",
      "41 is not an Armstrong number\n",
      "42 is not an Armstrong number\n",
      "43 is not an Armstrong number\n",
      "44 is not an Armstrong number\n",
      "45 is not an Armstrong number\n",
      "46 is not an Armstrong number\n",
      "47 is not an Armstrong number\n",
      "48 is not an Armstrong number\n",
      "49 is not an Armstrong number\n",
      "50 is not an Armstrong number\n",
      "51 is not an Armstrong number\n",
      "52 is not an Armstrong number\n",
      "53 is not an Armstrong number\n",
      "54 is not an Armstrong number\n",
      "55 is not an Armstrong number\n",
      "56 is not an Armstrong number\n",
      "57 is not an Armstrong number\n",
      "58 is not an Armstrong number\n",
      "59 is not an Armstrong number\n",
      "60 is not an Armstrong number\n",
      "61 is not an Armstrong number\n",
      "62 is not an Armstrong number\n",
      "63 is not an Armstrong number\n",
      "64 is not an Armstrong number\n",
      "65 is not an Armstrong number\n",
      "66 is not an Armstrong number\n",
      "67 is not an Armstrong number\n",
      "68 is not an Armstrong number\n",
      "69 is not an Armstrong number\n",
      "70 is not an Armstrong number\n",
      "71 is not an Armstrong number\n",
      "72 is not an Armstrong number\n",
      "73 is not an Armstrong number\n",
      "74 is not an Armstrong number\n",
      "75 is not an Armstrong number\n",
      "76 is not an Armstrong number\n",
      "77 is not an Armstrong number\n",
      "78 is not an Armstrong number\n",
      "79 is not an Armstrong number\n",
      "80 is not an Armstrong number\n",
      "81 is not an Armstrong number\n",
      "82 is not an Armstrong number\n",
      "83 is not an Armstrong number\n",
      "84 is not an Armstrong number\n",
      "85 is not an Armstrong number\n",
      "86 is not an Armstrong number\n",
      "87 is not an Armstrong number\n",
      "88 is not an Armstrong number\n",
      "89 is not an Armstrong number\n",
      "90 is not an Armstrong number\n",
      "91 is not an Armstrong number\n",
      "92 is not an Armstrong number\n",
      "93 is not an Armstrong number\n",
      "94 is not an Armstrong number\n",
      "95 is not an Armstrong number\n",
      "96 is not an Armstrong number\n",
      "97 is not an Armstrong number\n",
      "98 is not an Armstrong number\n",
      "99 is not an Armstrong number\n",
      "100 is not an Armstrong number\n",
      "101 is not an Armstrong number\n",
      "102 is not an Armstrong number\n",
      "103 is not an Armstrong number\n",
      "104 is not an Armstrong number\n",
      "105 is not an Armstrong number\n",
      "106 is not an Armstrong number\n",
      "107 is not an Armstrong number\n",
      "108 is not an Armstrong number\n",
      "109 is not an Armstrong number\n",
      "110 is not an Armstrong number\n",
      "111 is not an Armstrong number\n",
      "112 is not an Armstrong number\n",
      "113 is not an Armstrong number\n",
      "114 is not an Armstrong number\n",
      "115 is not an Armstrong number\n",
      "116 is not an Armstrong number\n",
      "117 is not an Armstrong number\n",
      "118 is not an Armstrong number\n",
      "119 is not an Armstrong number\n",
      "120 is not an Armstrong number\n",
      "121 is not an Armstrong number\n",
      "122 is not an Armstrong number\n",
      "123 is not an Armstrong number\n",
      "124 is not an Armstrong number\n",
      "125 is not an Armstrong number\n",
      "126 is not an Armstrong number\n",
      "127 is not an Armstrong number\n",
      "128 is not an Armstrong number\n",
      "129 is not an Armstrong number\n",
      "130 is not an Armstrong number\n",
      "131 is not an Armstrong number\n",
      "132 is not an Armstrong number\n",
      "133 is not an Armstrong number\n",
      "134 is not an Armstrong number\n",
      "135 is not an Armstrong number\n",
      "136 is not an Armstrong number\n",
      "137 is not an Armstrong number\n",
      "138 is not an Armstrong number\n",
      "139 is not an Armstrong number\n",
      "140 is not an Armstrong number\n",
      "141 is not an Armstrong number\n",
      "142 is not an Armstrong number\n",
      "143 is not an Armstrong number\n",
      "144 is not an Armstrong number\n",
      "145 is not an Armstrong number\n",
      "146 is not an Armstrong number\n",
      "147 is not an Armstrong number\n",
      "148 is not an Armstrong number\n",
      "149 is not an Armstrong number\n",
      "150 is not an Armstrong number\n",
      "151 is not an Armstrong number\n",
      "152 is not an Armstrong number\n",
      "153 is an Armstrong number\n",
      "154 is not an Armstrong number\n",
      "155 is not an Armstrong number\n",
      "156 is not an Armstrong number\n",
      "157 is not an Armstrong number\n",
      "158 is not an Armstrong number\n",
      "159 is not an Armstrong number\n"
     ]
    }
   ],
   "source": [
    "num = 160\n",
    "\n",
    "for i in range(num):\n",
    "    sum = 0\n",
    "    temp = i\n",
    "    while temp > 0:\n",
    "        digit = temp%10\n",
    "        sum = sum + digit**3\n",
    "        temp = temp // 10\n",
    "    if i == sum :\n",
    "        print(i, \"is an Armstrong number\")\n",
    "    else :\n",
    "        print(i, \"is not an Armstrong number\")"
   ]
  },
  {
   "cell_type": "markdown",
   "metadata": {},
   "source": [
    "### 6. Write a Python Program to Find the Sum of Natural Numbers?\n",
    "\n",
    "### Ans :"
   ]
  },
  {
   "cell_type": "code",
   "execution_count": 49,
   "metadata": {},
   "outputs": [
    {
     "name": "stdout",
     "output_type": "stream",
     "text": [
      "Sum is  136\n"
     ]
    }
   ],
   "source": [
    "num = 16\n",
    "\n",
    "sum = 0\n",
    "for i in range(num+1):\n",
    "    sum = sum + i\n",
    "\n",
    "print(\"Sum is \",sum)"
   ]
  }
 ],
 "metadata": {
  "kernelspec": {
   "display_name": "Python 3",
   "language": "python",
   "name": "python3"
  },
  "language_info": {
   "codemirror_mode": {
    "name": "ipython",
    "version": 3
   },
   "file_extension": ".py",
   "mimetype": "text/x-python",
   "name": "python",
   "nbconvert_exporter": "python",
   "pygments_lexer": "ipython3",
   "version": "3.8.5"
  }
 },
 "nbformat": 4,
 "nbformat_minor": 4
}
