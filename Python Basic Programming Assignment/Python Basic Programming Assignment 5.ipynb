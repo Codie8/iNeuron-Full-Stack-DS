{
 "cells": [
  {
   "cell_type": "markdown",
   "metadata": {},
   "source": [
    "### 1. Write a Python Program to Find LCM?"
   ]
  },
  {
   "cell_type": "code",
   "execution_count": 4,
   "metadata": {},
   "outputs": [
    {
     "name": "stdout",
     "output_type": "stream",
     "text": [
      "LCM of 20 and 15 is 60: \n"
     ]
    }
   ],
   "source": [
    "def find_LCM(a, b):\n",
    "    \n",
    "    if a>b :\n",
    "        greater = a\n",
    "    else:\n",
    "        greater = b\n",
    "    \n",
    "    while(True):\n",
    "        if((greater%a == 0) and (greater%b == 0)):\n",
    "            lcm = greater\n",
    "            break\n",
    "        greater +=1\n",
    "    return lcm\n",
    "\n",
    "a = 20\n",
    "b = 15\n",
    "res = find_LCM(a,b)\n",
    "print(\"LCM of {a} and {b} is {c}: \".format(a=a,b=b,c=res) )"
   ]
  },
  {
   "cell_type": "markdown",
   "metadata": {},
   "source": [
    "### 2. Write a Python Program to Find HCF?"
   ]
  },
  {
   "cell_type": "code",
   "execution_count": 7,
   "metadata": {},
   "outputs": [
    {
     "name": "stdout",
     "output_type": "stream",
     "text": [
      "LCM of 20 and 15 is 5: \n"
     ]
    }
   ],
   "source": [
    "def find_HCF(a, b):\n",
    "    \n",
    "    if a>b :\n",
    "        smaller = b\n",
    "    else:\n",
    "        smaller = a\n",
    "    \n",
    "    for i in range(1, smaller+1):\n",
    "        if((a % i == 0) and (b % i == 0)):\n",
    "            hcf = i \n",
    "    return hcf\n",
    "\n",
    "a = 20\n",
    "b = 15\n",
    "res = find_HCF(a,b)\n",
    "print(\"LCM of {a} and {b} is {c}: \".format(a=a,b=b,c=res) )"
   ]
  },
  {
   "cell_type": "markdown",
   "metadata": {},
   "source": [
    "### 3. Write a Python Program to Convert Decimal to Binary, Octal and Hexadecimal?"
   ]
  },
  {
   "cell_type": "code",
   "execution_count": 10,
   "metadata": {},
   "outputs": [
    {
     "name": "stdout",
     "output_type": "stream",
     "text": [
      "Decimal value is 25\n",
      "binary value is  0b11001\n",
      "octal value is  0o31\n",
      "hexadecimal value is  0x19\n"
     ]
    }
   ],
   "source": [
    "num = 25\n",
    "print(\"Decimal value is\", num)\n",
    "print(\"binary value is \",bin(num))\n",
    "print(\"octal value is \", oct(num))\n",
    "print(\"hexadecimal value is \", hex(num))"
   ]
  },
  {
   "cell_type": "markdown",
   "metadata": {},
   "source": [
    "### 4. Write a Python Program To Find ASCII value of a character?"
   ]
  },
  {
   "cell_type": "code",
   "execution_count": 14,
   "metadata": {},
   "outputs": [
    {
     "name": "stdout",
     "output_type": "stream",
     "text": [
      "The ASCII value of 'p' is 112\n"
     ]
    }
   ],
   "source": [
    "char = 'p'\n",
    "print(\"The ASCII value of '\" + char + \"' is\", ord(char))"
   ]
  },
  {
   "cell_type": "markdown",
   "metadata": {},
   "source": [
    "### 5. Write a Python Program to Make a Simple Calculator with 4 basic mathematical operations?"
   ]
  },
  {
   "cell_type": "code",
   "execution_count": 18,
   "metadata": {},
   "outputs": [
    {
     "name": "stdout",
     "output_type": "stream",
     "text": [
      "1. Addition\n",
      "2. Subtraction\n",
      "3. Multiplication\n",
      "4. Division\n",
      "\n",
      "Please select operation number 3\n",
      "Enter First Number 25\n",
      "Enter First Number 5\n",
      "125\n"
     ]
    }
   ],
   "source": [
    "def calc(op,a,b):\n",
    "    if op == '1':\n",
    "        return a+b\n",
    "    elif op == '2':\n",
    "        return a-b\n",
    "    elif op == '3':\n",
    "        return a*b\n",
    "    elif op == '4':\n",
    "        return a/b\n",
    "    \n",
    "print(\"1. Addition\")\n",
    "print(\"2. Subtraction\")\n",
    "print(\"3. Multiplication\")\n",
    "print(\"4. Division\\n\")\n",
    "op = input(\"Please select operation number \")\n",
    "a = int(input(\"Enter First Number \"))\n",
    "b = int(input(\"Enter First Number \"))\n",
    "print(calc(op,a,b))"
   ]
  },
  {
   "cell_type": "code",
   "execution_count": null,
   "metadata": {},
   "outputs": [],
   "source": []
  },
  {
   "cell_type": "code",
   "execution_count": null,
   "metadata": {},
   "outputs": [],
   "source": []
  },
  {
   "cell_type": "code",
   "execution_count": null,
   "metadata": {},
   "outputs": [],
   "source": []
  }
 ],
 "metadata": {
  "kernelspec": {
   "display_name": "Python 3",
   "language": "python",
   "name": "python3"
  },
  "language_info": {
   "codemirror_mode": {
    "name": "ipython",
    "version": 3
   },
   "file_extension": ".py",
   "mimetype": "text/x-python",
   "name": "python",
   "nbconvert_exporter": "python",
   "pygments_lexer": "ipython3",
   "version": "3.8.5"
  }
 },
 "nbformat": 4,
 "nbformat_minor": 4
}
