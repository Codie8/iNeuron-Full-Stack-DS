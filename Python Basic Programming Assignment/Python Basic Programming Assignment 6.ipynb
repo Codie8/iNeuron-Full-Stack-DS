{
 "cells": [
  {
   "cell_type": "markdown",
   "metadata": {},
   "source": [
    "### 1. Write a Python Program to Display Fibonacci Sequence Using Recursion?"
   ]
  },
  {
   "cell_type": "code",
   "execution_count": 6,
   "metadata": {},
   "outputs": [
    {
     "ename": "SyntaxError",
     "evalue": "'break' outside loop (<ipython-input-6-7e13f26248f9>, line 5)",
     "output_type": "error",
     "traceback": [
      "\u001b[0;36m  File \u001b[0;32m\"<ipython-input-6-7e13f26248f9>\"\u001b[0;36m, line \u001b[0;32m5\u001b[0m\n\u001b[0;31m    break\u001b[0m\n\u001b[0m    ^\u001b[0m\n\u001b[0;31mSyntaxError\u001b[0m\u001b[0;31m:\u001b[0m 'break' outside loop\n"
     ]
    }
   ],
   "source": [
    "def Fibonacci(num):\n",
    "    sequence = [0,1,1]\n",
    "    \n",
    "    if num == 0 :\n",
    "        break\n",
    "    elif num == 1 or num == 2: \n",
    "        return 1\n",
    "    else :\n",
    "        return (Fibonacci(num-1) + Fibonacci(num-2))\n",
    "        \n",
    "\n",
    "n = 15\n",
    "\n",
    "for i in range(n):\n",
    "    print(Fibonacci(i),end=\" \")\n",
    "        "
   ]
  },
  {
   "cell_type": "code",
   "execution_count": null,
   "metadata": {},
   "outputs": [],
   "source": []
  },
  {
   "cell_type": "markdown",
   "metadata": {},
   "source": [
    "### 2. Write a Python Program to Find Factorial of Number Using Recursion?"
   ]
  },
  {
   "cell_type": "code",
   "execution_count": 14,
   "metadata": {},
   "outputs": [
    {
     "name": "stdout",
     "output_type": "stream",
     "text": [
      "24\n"
     ]
    }
   ],
   "source": [
    "def fact(num):\n",
    "    \n",
    "    if num == 0 or num == 1:\n",
    "        return 1\n",
    "    else :\n",
    "        return num * fact(num-1)\n",
    "n = 4\n",
    "print(fact(n))"
   ]
  },
  {
   "cell_type": "markdown",
   "metadata": {},
   "source": [
    "### 3. Write a Python Program to calculate your Body Mass Index?"
   ]
  },
  {
   "cell_type": "code",
   "execution_count": 29,
   "metadata": {},
   "outputs": [
    {
     "name": "stdout",
     "output_type": "stream",
     "text": [
      "Please enter your weight in kg 60\n",
      "Please enter your height in Meters 1.7\n",
      "Your BMI is  20.761245674740486\n"
     ]
    }
   ],
   "source": [
    "weight = int(input(\"Please enter your weight in kg \"))\n",
    "\n",
    "height = float(input(\"Please enter your height in Meters \"))\n",
    "\n",
    "BMI = weight/(height*height)\n",
    "print(\"Your BMI is \",BMI)"
   ]
  },
  {
   "cell_type": "markdown",
   "metadata": {},
   "source": [
    "### 4. Write a Python Program to calculate the natural logarithm of any number?"
   ]
  },
  {
   "cell_type": "code",
   "execution_count": 33,
   "metadata": {},
   "outputs": [
    {
     "name": "stdout",
     "output_type": "stream",
     "text": [
      "Enter number for find log : 25\n",
      "Log is  3.2188758248682006\n"
     ]
    }
   ],
   "source": [
    "import math\n",
    "\n",
    "num = float(input(\"Enter number for find log : \"))\n",
    "\n",
    "print(\"Log is \",math.log(num))"
   ]
  },
  {
   "cell_type": "markdown",
   "metadata": {},
   "source": [
    "### 5. Write a Python Program for cube sum of first n natural numbers?"
   ]
  },
  {
   "cell_type": "code",
   "execution_count": 36,
   "metadata": {},
   "outputs": [
    {
     "name": "stdout",
     "output_type": "stream",
     "text": [
      "Sum of cube 5 is : 225\n"
     ]
    }
   ],
   "source": [
    "def sum(num):\n",
    "    if num == 0:\n",
    "        return 0\n",
    "    elif num == 1:\n",
    "        return 1\n",
    "    elif num > 1:\n",
    "        return num**3 + sum(num-1)\n",
    "\n",
    "n = 5\n",
    "print(\"Sum of cube {n} is : {sum}\".format(n=n,sum=sum(n)))"
   ]
  }
 ],
 "metadata": {
  "kernelspec": {
   "display_name": "Python 3",
   "language": "python",
   "name": "python3"
  },
  "language_info": {
   "codemirror_mode": {
    "name": "ipython",
    "version": 3
   },
   "file_extension": ".py",
   "mimetype": "text/x-python",
   "name": "python",
   "nbconvert_exporter": "python",
   "pygments_lexer": "ipython3",
   "version": "3.8.5"
  }
 },
 "nbformat": 4,
 "nbformat_minor": 4
}
