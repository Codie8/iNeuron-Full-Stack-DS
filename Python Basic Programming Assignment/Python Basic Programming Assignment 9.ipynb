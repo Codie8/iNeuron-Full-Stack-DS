{
 "cells": [
  {
   "cell_type": "markdown",
   "metadata": {},
   "source": [
    "### 1. Write a Python program to check if the given number is a Disarium Number?"
   ]
  },
  {
   "cell_type": "code",
   "execution_count": 1,
   "metadata": {},
   "outputs": [
    {
     "name": "stdout",
     "output_type": "stream",
     "text": [
      "89 is Disarium Number \n"
     ]
    }
   ],
   "source": [
    "num = 89\n",
    "\n",
    "num = str(num)\n",
    "count= 1\n",
    "sum = 0\n",
    "for i in num:\n",
    "    sum += int(i)**count\n",
    "    count += 1\n",
    "\n",
    "# print(\"Sum \",sum)\n",
    "if sum == int(num):\n",
    "    print(\"{0} is Disarium Number \".format(num))\n",
    "else :\n",
    "    print(\"{0} is not Disarium Number\".format(num))"
   ]
  },
  {
   "cell_type": "markdown",
   "metadata": {},
   "source": [
    "### 2. Write a Python program to print all disarium numbers between 1 to 100?"
   ]
  },
  {
   "cell_type": "code",
   "execution_count": 26,
   "metadata": {},
   "outputs": [
    {
     "name": "stdout",
     "output_type": "stream",
     "text": [
      "Disarium Numbers between 1 to 100 are :  \n",
      "['1', '2', '3', '4', '5', '6', '7', '8', '9', '89']\n"
     ]
    }
   ],
   "source": [
    "start = 1\n",
    "end = 100\n",
    "Dlist = []\n",
    "NDlist = []\n",
    "for num in range(start,end+1):\n",
    "    num = str(num)\n",
    "    count= 1\n",
    "    sum = 0\n",
    "    for i in num:\n",
    "        sum += int(i)**count\n",
    "        count += 1\n",
    "\n",
    "    # print(\"Sum \",sum)\n",
    "    if sum == int(num):\n",
    "        Dlist.append(num)\n",
    "#         print(\"{0} is Disarium Number \".format(num))\n",
    "    else :\n",
    "        NDlist.append(num)\n",
    "#         print(\"{0} is not Disarium Number\".format(num))\n",
    "\n",
    "print(\"Disarium Numbers between {0} to {1} are :  \".format(start,end))\n",
    "print(Dlist)"
   ]
  },
  {
   "cell_type": "markdown",
   "metadata": {},
   "source": [
    "### 3. Write a Python program to check if the given number is Happy Number?"
   ]
  },
  {
   "cell_type": "code",
   "execution_count": 27,
   "metadata": {},
   "outputs": [
    {
     "name": "stdout",
     "output_type": "stream",
     "text": [
      "13 is a Happy number\n"
     ]
    }
   ],
   "source": [
    "def numSquareSum(n):\n",
    "    squareSum = 0;\n",
    "    while(n):\n",
    "        squareSum += (n % 10) * (n % 10);\n",
    "        n = int(n / 10);\n",
    "    return squareSum;\n",
    "\n",
    "def isHappynumber(n):\n",
    " \n",
    "    slow = n;\n",
    "    fast = n;\n",
    "    while(True):\n",
    "         \n",
    "        slow = numSquareSum(slow);\n",
    " \n",
    "        fast = numSquareSum(numSquareSum(fast));\n",
    "        if(slow != fast):\n",
    "            continue;\n",
    "        else:\n",
    "            break;\n",
    " \n",
    "    return (slow == 1);\n",
    " \n",
    "n = 13;\n",
    "if (isHappynumber(n)):\n",
    "    print(n , \"is a Happy number\");\n",
    "else:\n",
    "    print(n , \"is not a Happy number\");"
   ]
  },
  {
   "cell_type": "markdown",
   "metadata": {},
   "source": [
    "### 4. Write a Python program to print all happy numbers between 1 and 100?"
   ]
  },
  {
   "cell_type": "code",
   "execution_count": 31,
   "metadata": {},
   "outputs": [
    {
     "name": "stdout",
     "output_type": "stream",
     "text": [
      "Happy Number between 1 to 100 are :\n",
      "[1, 7, 10, 13, 19, 23, 28, 31, 32, 44, 49, 68, 70, 79, 82, 86, 91, 94, 97, 100]\n"
     ]
    }
   ],
   "source": [
    "def numSquareSum(n):\n",
    "    squareSum = 0;\n",
    "    while(n):\n",
    "        squareSum += (n % 10) * (n % 10);\n",
    "        n = int(n / 10);\n",
    "    return squareSum;\n",
    "\n",
    "def isHappynumber(n):\n",
    " \n",
    "    slow = n;\n",
    "    fast = n;\n",
    "    while(True):\n",
    "         \n",
    "        slow = numSquareSum(slow);\n",
    " \n",
    "        fast = numSquareSum(numSquareSum(fast));\n",
    "        if(slow != fast):\n",
    "            continue;\n",
    "        else:\n",
    "            break;\n",
    " \n",
    "    return (slow == 1);\n",
    " \n",
    "    \n",
    "Hlist = []\n",
    "start = 1\n",
    "end = 100\n",
    "for i in range(start,end+1):\n",
    "    if (isHappynumber(i)):\n",
    "        Hlist.append(i)\n",
    "print(\"Happy Number between {0} to {1} are :\".format(start,end))\n",
    "print(Hlist)"
   ]
  },
  {
   "cell_type": "markdown",
   "metadata": {},
   "source": [
    "### 5. Write a Python program to determine whether the given number is a Harshad Number?"
   ]
  },
  {
   "cell_type": "code",
   "execution_count": 46,
   "metadata": {},
   "outputs": [
    {
     "name": "stdout",
     "output_type": "stream",
     "text": [
      "156 is Harshad Number\n"
     ]
    }
   ],
   "source": [
    "num = 156\n",
    "\n",
    "sum = 0\n",
    "\n",
    "for i in str(num):\n",
    "    sum = sum + int(i)\n",
    "\n",
    "# print(num/sum)\n",
    "if num%sum == 0:\n",
    "    print(\"{0} is Harshad Number\".format(num))\n",
    "else :\n",
    "    print(\"{0} is not Harshad Number\".format(num))"
   ]
  },
  {
   "cell_type": "markdown",
   "metadata": {},
   "source": [
    "### 6. Write a Python program to print all pronic numbers between 1 and 100?"
   ]
  },
  {
   "cell_type": "code",
   "execution_count": 10,
   "metadata": {},
   "outputs": [
    {
     "data": {
      "text/plain": [
       "15.464101615137753"
      ]
     },
     "execution_count": 10,
     "metadata": {},
     "output_type": "execute_result"
    }
   ],
   "source": [
    "import math\n",
    "num = 12\n",
    "\n",
    "k = math.sqrt(num)\n",
    "\n",
    "res = k*(k+1)\n",
    "\n",
    "res"
   ]
  },
  {
   "cell_type": "code",
   "execution_count": 15,
   "metadata": {},
   "outputs": [
    {
     "name": "stdout",
     "output_type": "stream",
     "text": [
      "Given Number is Pronic Number\n"
     ]
    }
   ],
   "source": [
    "num = 12\n",
    "\n",
    "flag = False\n",
    "for i in range(num+1):\n",
    "    res = i * (i-1)\n",
    "    if res == num:\n",
    "        print(\"Given Number is Pronic Number\")\n",
    "        flag = True\n",
    "        break\n",
    "if flag == False:\n",
    "    print(\"Given number is not Pronic Number\")"
   ]
  }
 ],
 "metadata": {
  "kernelspec": {
   "display_name": "Python 3",
   "language": "python",
   "name": "python3"
  },
  "language_info": {
   "codemirror_mode": {
    "name": "ipython",
    "version": 3
   },
   "file_extension": ".py",
   "mimetype": "text/x-python",
   "name": "python",
   "nbconvert_exporter": "python",
   "pygments_lexer": "ipython3",
   "version": "3.8.5"
  }
 },
 "nbformat": 4,
 "nbformat_minor": 4
}
